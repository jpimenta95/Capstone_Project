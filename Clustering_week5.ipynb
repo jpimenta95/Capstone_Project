{
 "cells": [
  {
   "cell_type": "markdown",
   "metadata": {},
   "source": [
    "# Toronto"
   ]
  },
  {
   "cell_type": "code",
   "execution_count": 73,
   "metadata": {},
   "outputs": [],
   "source": [
    "import pandas as pd\n",
    "import numpy as np"
   ]
  },
  {
   "cell_type": "code",
   "execution_count": 74,
   "metadata": {},
   "outputs": [],
   "source": [
    "url = \"https://en.wikipedia.org/wiki/List_of_postal_codes_of_Canada:_M\"\n",
    "data = pd.read_html(url)[0]"
   ]
  },
  {
   "cell_type": "code",
   "execution_count": 75,
   "metadata": {},
   "outputs": [],
   "source": [
    "data.rename(columns={'Postcode': 'PostalCode'}, inplace=True)  \n",
    "ix = data['Borough'] == 'Not assigned'\n",
    "data.drop(data[ix].index, inplace=True)"
   ]
  },
  {
   "cell_type": "code",
   "execution_count": 76,
   "metadata": {},
   "outputs": [
    {
     "data": {
      "text/html": [
       "<div>\n",
       "<style scoped>\n",
       "    .dataframe tbody tr th:only-of-type {\n",
       "        vertical-align: middle;\n",
       "    }\n",
       "\n",
       "    .dataframe tbody tr th {\n",
       "        vertical-align: top;\n",
       "    }\n",
       "\n",
       "    .dataframe thead th {\n",
       "        text-align: right;\n",
       "    }\n",
       "</style>\n",
       "<table border=\"1\" class=\"dataframe\">\n",
       "  <thead>\n",
       "    <tr style=\"text-align: right;\">\n",
       "      <th></th>\n",
       "      <th>PostalCode</th>\n",
       "      <th>Borough</th>\n",
       "      <th>Neighbourhood</th>\n",
       "    </tr>\n",
       "  </thead>\n",
       "  <tbody>\n",
       "    <tr>\n",
       "      <th>2</th>\n",
       "      <td>M3A</td>\n",
       "      <td>North York</td>\n",
       "      <td>Parkwoods</td>\n",
       "    </tr>\n",
       "    <tr>\n",
       "      <th>3</th>\n",
       "      <td>M4A</td>\n",
       "      <td>North York</td>\n",
       "      <td>Victoria Village</td>\n",
       "    </tr>\n",
       "    <tr>\n",
       "      <th>4</th>\n",
       "      <td>M5A</td>\n",
       "      <td>Downtown Toronto</td>\n",
       "      <td>Harbourfront</td>\n",
       "    </tr>\n",
       "    <tr>\n",
       "      <th>5</th>\n",
       "      <td>M6A</td>\n",
       "      <td>North York</td>\n",
       "      <td>Lawrence Heights</td>\n",
       "    </tr>\n",
       "    <tr>\n",
       "      <th>6</th>\n",
       "      <td>M6A</td>\n",
       "      <td>North York</td>\n",
       "      <td>Lawrence Manor</td>\n",
       "    </tr>\n",
       "  </tbody>\n",
       "</table>\n",
       "</div>"
      ],
      "text/plain": [
       "  PostalCode           Borough     Neighbourhood\n",
       "2        M3A        North York         Parkwoods\n",
       "3        M4A        North York  Victoria Village\n",
       "4        M5A  Downtown Toronto      Harbourfront\n",
       "5        M6A        North York  Lawrence Heights\n",
       "6        M6A        North York    Lawrence Manor"
      ]
     },
     "execution_count": 76,
     "metadata": {},
     "output_type": "execute_result"
    }
   ],
   "source": [
    "data.head()"
   ]
  },
  {
   "cell_type": "code",
   "execution_count": 77,
   "metadata": {},
   "outputs": [
    {
     "data": {
      "text/plain": [
       "(103, 210, False)"
      ]
     },
     "execution_count": 77,
     "metadata": {},
     "output_type": "execute_result"
    }
   ],
   "source": [
    "data['PostalCode'].nunique(), len(data), data['PostalCode'].nunique() == len(data)"
   ]
  },
  {
   "cell_type": "code",
   "execution_count": 78,
   "metadata": {},
   "outputs": [],
   "source": [
    "post_neighbour_dic = {}\n",
    "for _, row in data.iterrows():\n",
    "    if row['PostalCode'] in post_neighbour_dic:\n",
    "        post_neighbour_dic[row['PostalCode']].append(row['Neighbourhood']) \n",
    "    else:\n",
    "        post_neighbour_dic[row['PostalCode']] = [row['Neighbourhood']] "
   ]
  },
  {
   "cell_type": "code",
   "execution_count": 79,
   "metadata": {},
   "outputs": [
    {
     "data": {
      "text/plain": [
       "['Cloverdale',\n",
       " 'Islington',\n",
       " 'Martin Grove',\n",
       " 'Princess Gardens',\n",
       " 'West Deane Park']"
      ]
     },
     "execution_count": 79,
     "metadata": {},
     "output_type": "execute_result"
    }
   ],
   "source": [
    "post_neighbour_dic['M9B']"
   ]
  },
  {
   "cell_type": "code",
   "execution_count": 80,
   "metadata": {},
   "outputs": [],
   "source": [
    "data['Neighbourhood'] = data['PostalCode'].apply(lambda x: ','.join(post_neighbour_dic[x]))\n",
    "\n",
    "data.drop_duplicates(inplace=True) "
   ]
  },
  {
   "cell_type": "code",
   "execution_count": 81,
   "metadata": {},
   "outputs": [
    {
     "data": {
      "text/html": [
       "<div>\n",
       "<style scoped>\n",
       "    .dataframe tbody tr th:only-of-type {\n",
       "        vertical-align: middle;\n",
       "    }\n",
       "\n",
       "    .dataframe tbody tr th {\n",
       "        vertical-align: top;\n",
       "    }\n",
       "\n",
       "    .dataframe thead th {\n",
       "        text-align: right;\n",
       "    }\n",
       "</style>\n",
       "<table border=\"1\" class=\"dataframe\">\n",
       "  <thead>\n",
       "    <tr style=\"text-align: right;\">\n",
       "      <th></th>\n",
       "      <th>PostalCode</th>\n",
       "      <th>Borough</th>\n",
       "      <th>Neighbourhood</th>\n",
       "    </tr>\n",
       "  </thead>\n",
       "  <tbody>\n",
       "    <tr>\n",
       "      <th>143</th>\n",
       "      <td>M4N</td>\n",
       "      <td>Central Toronto</td>\n",
       "      <td>Lawrence Park</td>\n",
       "    </tr>\n",
       "    <tr>\n",
       "      <th>4</th>\n",
       "      <td>M5A</td>\n",
       "      <td>Downtown Toronto</td>\n",
       "      <td>Harbourfront</td>\n",
       "    </tr>\n",
       "    <tr>\n",
       "      <th>81</th>\n",
       "      <td>M4J</td>\n",
       "      <td>East York</td>\n",
       "      <td>East Toronto</td>\n",
       "    </tr>\n",
       "    <tr>\n",
       "      <th>10</th>\n",
       "      <td>M1B</td>\n",
       "      <td>Scarborough</td>\n",
       "      <td>Rouge,Malvern</td>\n",
       "    </tr>\n",
       "    <tr>\n",
       "      <th>48</th>\n",
       "      <td>M6E</td>\n",
       "      <td>York</td>\n",
       "      <td>Caledonia-Fairbanks</td>\n",
       "    </tr>\n",
       "    <tr>\n",
       "      <th>61</th>\n",
       "      <td>M1H</td>\n",
       "      <td>Scarborough</td>\n",
       "      <td>Cedarbrae</td>\n",
       "    </tr>\n",
       "    <tr>\n",
       "      <th>98</th>\n",
       "      <td>M5K</td>\n",
       "      <td>Downtown Toronto</td>\n",
       "      <td>Design Exchange,Toronto Dominion Centre</td>\n",
       "    </tr>\n",
       "    <tr>\n",
       "      <th>235</th>\n",
       "      <td>M1W</td>\n",
       "      <td>Scarborough</td>\n",
       "      <td>L'Amoreaux West</td>\n",
       "    </tr>\n",
       "    <tr>\n",
       "      <th>239</th>\n",
       "      <td>M5W</td>\n",
       "      <td>Downtown Toronto</td>\n",
       "      <td>Stn A PO Boxes 25 The Esplanade</td>\n",
       "    </tr>\n",
       "    <tr>\n",
       "      <th>173</th>\n",
       "      <td>M7R</td>\n",
       "      <td>Mississauga</td>\n",
       "      <td>Canada Post Gateway Processing Centre</td>\n",
       "    </tr>\n",
       "  </tbody>\n",
       "</table>\n",
       "</div>"
      ],
      "text/plain": [
       "    PostalCode           Borough                            Neighbourhood\n",
       "143        M4N   Central Toronto                            Lawrence Park\n",
       "4          M5A  Downtown Toronto                             Harbourfront\n",
       "81         M4J         East York                             East Toronto\n",
       "10         M1B       Scarborough                            Rouge,Malvern\n",
       "48         M6E              York                      Caledonia-Fairbanks\n",
       "61         M1H       Scarborough                                Cedarbrae\n",
       "98         M5K  Downtown Toronto  Design Exchange,Toronto Dominion Centre\n",
       "235        M1W       Scarborough                          L'Amoreaux West\n",
       "239        M5W  Downtown Toronto          Stn A PO Boxes 25 The Esplanade\n",
       "173        M7R       Mississauga    Canada Post Gateway Processing Centre"
      ]
     },
     "execution_count": 81,
     "metadata": {},
     "output_type": "execute_result"
    }
   ],
   "source": [
    "data.sample(10)"
   ]
  },
  {
   "cell_type": "code",
   "execution_count": 82,
   "metadata": {},
   "outputs": [
    {
     "data": {
      "text/plain": [
       "1"
      ]
     },
     "execution_count": 82,
     "metadata": {},
     "output_type": "execute_result"
    }
   ],
   "source": [
    "sum(data['Neighbourhood'] == 'Not assigned')"
   ]
  },
  {
   "cell_type": "code",
   "execution_count": 83,
   "metadata": {},
   "outputs": [],
   "source": [
    "for _, row in data.iterrows():\n",
    "    if row['Neighbourhood'] == 'Not assigned': row['Neighbourhood'] = row['Borough']"
   ]
  },
  {
   "cell_type": "code",
   "execution_count": 84,
   "metadata": {},
   "outputs": [
    {
     "data": {
      "text/plain": [
       "0"
      ]
     },
     "execution_count": 84,
     "metadata": {},
     "output_type": "execute_result"
    }
   ],
   "source": [
    "sum(data['Neighbourhood'] == 'Not assigned')"
   ]
  },
  {
   "cell_type": "code",
   "execution_count": 85,
   "metadata": {},
   "outputs": [
    {
     "data": {
      "text/html": [
       "<div>\n",
       "<style scoped>\n",
       "    .dataframe tbody tr th:only-of-type {\n",
       "        vertical-align: middle;\n",
       "    }\n",
       "\n",
       "    .dataframe tbody tr th {\n",
       "        vertical-align: top;\n",
       "    }\n",
       "\n",
       "    .dataframe thead th {\n",
       "        text-align: right;\n",
       "    }\n",
       "</style>\n",
       "<table border=\"1\" class=\"dataframe\">\n",
       "  <thead>\n",
       "    <tr style=\"text-align: right;\">\n",
       "      <th></th>\n",
       "      <th>PostalCode</th>\n",
       "      <th>Borough</th>\n",
       "      <th>Neighbourhood</th>\n",
       "    </tr>\n",
       "  </thead>\n",
       "  <tbody>\n",
       "    <tr>\n",
       "      <th>7</th>\n",
       "      <td>M7A</td>\n",
       "      <td>Queen's Park</td>\n",
       "      <td>Queen's Park</td>\n",
       "    </tr>\n",
       "  </tbody>\n",
       "</table>\n",
       "</div>"
      ],
      "text/plain": [
       "  PostalCode       Borough Neighbourhood\n",
       "7        M7A  Queen's Park  Queen's Park"
      ]
     },
     "execution_count": 85,
     "metadata": {},
     "output_type": "execute_result"
    }
   ],
   "source": [
    "data[data['Borough'].str.contains(\"Queen\")]"
   ]
  },
  {
   "cell_type": "code",
   "execution_count": 86,
   "metadata": {},
   "outputs": [
    {
     "data": {
      "text/plain": [
       "(103, 3)"
      ]
     },
     "execution_count": 86,
     "metadata": {},
     "output_type": "execute_result"
    }
   ],
   "source": [
    "data.shape"
   ]
  },
  {
   "cell_type": "code",
   "execution_count": 87,
   "metadata": {},
   "outputs": [
    {
     "name": "stdout",
     "output_type": "stream",
     "text": [
      "Requirement already satisfied: pgeocode in /opt/conda/envs/Python36/lib/python3.6/site-packages (0.1.2)\n",
      "Requirement already satisfied: requests in /opt/conda/envs/Python36/lib/python3.6/site-packages (from pgeocode) (2.21.0)\n",
      "Requirement already satisfied: pandas in /opt/conda/envs/Python36/lib/python3.6/site-packages (from pgeocode) (0.24.1)\n",
      "Requirement already satisfied: numpy in /opt/conda/envs/Python36/lib/python3.6/site-packages (from pgeocode) (1.15.4)\n",
      "Requirement already satisfied: chardet<3.1.0,>=3.0.2 in /opt/conda/envs/Python36/lib/python3.6/site-packages (from requests->pgeocode) (3.0.4)\n",
      "Requirement already satisfied: certifi>=2017.4.17 in /opt/conda/envs/Python36/lib/python3.6/site-packages (from requests->pgeocode) (2019.9.11)\n",
      "Requirement already satisfied: urllib3<1.25,>=1.21.1 in /opt/conda/envs/Python36/lib/python3.6/site-packages (from requests->pgeocode) (1.24.1)\n",
      "Requirement already satisfied: idna<2.9,>=2.5 in /opt/conda/envs/Python36/lib/python3.6/site-packages (from requests->pgeocode) (2.8)\n",
      "Requirement already satisfied: python-dateutil>=2.5.0 in /opt/conda/envs/Python36/lib/python3.6/site-packages (from pandas->pgeocode) (2.7.5)\n",
      "Requirement already satisfied: pytz>=2011k in /opt/conda/envs/Python36/lib/python3.6/site-packages (from pandas->pgeocode) (2018.9)\n",
      "Requirement already satisfied: six>=1.5 in /opt/conda/envs/Python36/lib/python3.6/site-packages (from python-dateutil>=2.5.0->pandas->pgeocode) (1.12.0)\n"
     ]
    }
   ],
   "source": [
    "!pip install pgeocode\n",
    "import pgeocode\n",
    "\n",
    "nomi = pgeocode.Nominatim('ca') "
   ]
  },
  {
   "cell_type": "code",
   "execution_count": 88,
   "metadata": {},
   "outputs": [],
   "source": [
    "data['Latitude'] = data['PostalCode'].apply(lambda x: nomi.query_postal_code(x))['latitude']\n",
    "data['Longitude'] = data['PostalCode'].apply(lambda x: nomi.query_postal_code(x))['longitude']"
   ]
  },
  {
   "cell_type": "code",
   "execution_count": 89,
   "metadata": {},
   "outputs": [
    {
     "data": {
      "text/html": [
       "<div>\n",
       "<style scoped>\n",
       "    .dataframe tbody tr th:only-of-type {\n",
       "        vertical-align: middle;\n",
       "    }\n",
       "\n",
       "    .dataframe tbody tr th {\n",
       "        vertical-align: top;\n",
       "    }\n",
       "\n",
       "    .dataframe thead th {\n",
       "        text-align: right;\n",
       "    }\n",
       "</style>\n",
       "<table border=\"1\" class=\"dataframe\">\n",
       "  <thead>\n",
       "    <tr style=\"text-align: right;\">\n",
       "      <th></th>\n",
       "      <th>PostalCode</th>\n",
       "      <th>Borough</th>\n",
       "      <th>Neighbourhood</th>\n",
       "      <th>Latitude</th>\n",
       "      <th>Longitude</th>\n",
       "    </tr>\n",
       "  </thead>\n",
       "  <tbody>\n",
       "    <tr>\n",
       "      <th>2</th>\n",
       "      <td>M3A</td>\n",
       "      <td>North York</td>\n",
       "      <td>Parkwoods</td>\n",
       "      <td>43.7545</td>\n",
       "      <td>-79.3300</td>\n",
       "    </tr>\n",
       "    <tr>\n",
       "      <th>3</th>\n",
       "      <td>M4A</td>\n",
       "      <td>North York</td>\n",
       "      <td>Victoria Village</td>\n",
       "      <td>43.7276</td>\n",
       "      <td>-79.3148</td>\n",
       "    </tr>\n",
       "    <tr>\n",
       "      <th>4</th>\n",
       "      <td>M5A</td>\n",
       "      <td>Downtown Toronto</td>\n",
       "      <td>Harbourfront</td>\n",
       "      <td>43.6555</td>\n",
       "      <td>-79.3626</td>\n",
       "    </tr>\n",
       "    <tr>\n",
       "      <th>5</th>\n",
       "      <td>M6A</td>\n",
       "      <td>North York</td>\n",
       "      <td>Lawrence Heights,Lawrence Manor</td>\n",
       "      <td>43.7223</td>\n",
       "      <td>-79.4504</td>\n",
       "    </tr>\n",
       "    <tr>\n",
       "      <th>7</th>\n",
       "      <td>M7A</td>\n",
       "      <td>Queen's Park</td>\n",
       "      <td>Queen's Park</td>\n",
       "      <td>43.6641</td>\n",
       "      <td>-79.3889</td>\n",
       "    </tr>\n",
       "  </tbody>\n",
       "</table>\n",
       "</div>"
      ],
      "text/plain": [
       "  PostalCode           Borough                    Neighbourhood  Latitude  \\\n",
       "2        M3A        North York                        Parkwoods   43.7545   \n",
       "3        M4A        North York                 Victoria Village   43.7276   \n",
       "4        M5A  Downtown Toronto                     Harbourfront   43.6555   \n",
       "5        M6A        North York  Lawrence Heights,Lawrence Manor   43.7223   \n",
       "7        M7A      Queen's Park                     Queen's Park   43.6641   \n",
       "\n",
       "   Longitude  \n",
       "2   -79.3300  \n",
       "3   -79.3148  \n",
       "4   -79.3626  \n",
       "5   -79.4504  \n",
       "7   -79.3889  "
      ]
     },
     "execution_count": 89,
     "metadata": {},
     "output_type": "execute_result"
    }
   ],
   "source": [
    "data.head()"
   ]
  },
  {
   "cell_type": "code",
   "execution_count": 90,
   "metadata": {},
   "outputs": [
    {
     "data": {
      "text/html": [
       "<div>\n",
       "<style scoped>\n",
       "    .dataframe tbody tr th:only-of-type {\n",
       "        vertical-align: middle;\n",
       "    }\n",
       "\n",
       "    .dataframe tbody tr th {\n",
       "        vertical-align: top;\n",
       "    }\n",
       "\n",
       "    .dataframe thead th {\n",
       "        text-align: right;\n",
       "    }\n",
       "</style>\n",
       "<table border=\"1\" class=\"dataframe\">\n",
       "  <thead>\n",
       "    <tr style=\"text-align: right;\">\n",
       "      <th></th>\n",
       "      <th>PostalCode</th>\n",
       "      <th>Borough</th>\n",
       "      <th>Neighbourhood</th>\n",
       "      <th>Latitude</th>\n",
       "      <th>Longitude</th>\n",
       "    </tr>\n",
       "  </thead>\n",
       "  <tbody>\n",
       "    <tr>\n",
       "      <th>0</th>\n",
       "      <td>M5A</td>\n",
       "      <td>Downtown Toronto</td>\n",
       "      <td>Harbourfront</td>\n",
       "      <td>43.6555</td>\n",
       "      <td>-79.3626</td>\n",
       "    </tr>\n",
       "    <tr>\n",
       "      <th>1</th>\n",
       "      <td>M9A</td>\n",
       "      <td>Downtown Toronto</td>\n",
       "      <td>Queen's Park</td>\n",
       "      <td>43.6662</td>\n",
       "      <td>-79.5282</td>\n",
       "    </tr>\n",
       "    <tr>\n",
       "      <th>2</th>\n",
       "      <td>M5B</td>\n",
       "      <td>Downtown Toronto</td>\n",
       "      <td>Ryerson,Garden District</td>\n",
       "      <td>43.6572</td>\n",
       "      <td>-79.3783</td>\n",
       "    </tr>\n",
       "    <tr>\n",
       "      <th>3</th>\n",
       "      <td>M5C</td>\n",
       "      <td>Downtown Toronto</td>\n",
       "      <td>St. James Town</td>\n",
       "      <td>43.6513</td>\n",
       "      <td>-79.3756</td>\n",
       "    </tr>\n",
       "    <tr>\n",
       "      <th>4</th>\n",
       "      <td>M4E</td>\n",
       "      <td>East Toronto</td>\n",
       "      <td>The Beaches</td>\n",
       "      <td>43.6784</td>\n",
       "      <td>-79.2941</td>\n",
       "    </tr>\n",
       "  </tbody>\n",
       "</table>\n",
       "</div>"
      ],
      "text/plain": [
       "  PostalCode           Borough            Neighbourhood  Latitude  Longitude\n",
       "0        M5A  Downtown Toronto             Harbourfront   43.6555   -79.3626\n",
       "1        M9A  Downtown Toronto             Queen's Park   43.6662   -79.5282\n",
       "2        M5B  Downtown Toronto  Ryerson,Garden District   43.6572   -79.3783\n",
       "3        M5C  Downtown Toronto           St. James Town   43.6513   -79.3756\n",
       "4        M4E      East Toronto              The Beaches   43.6784   -79.2941"
      ]
     },
     "execution_count": 90,
     "metadata": {},
     "output_type": "execute_result"
    }
   ],
   "source": [
    "data_toronto = data[data['Borough'].str.contains('Toronto')].reset_index(drop=True)\n",
    "data_toronto.head()"
   ]
  },
  {
   "cell_type": "code",
   "execution_count": 91,
   "metadata": {},
   "outputs": [
    {
     "data": {
      "text/plain": [
       "array(['Downtown Toronto', 'East Toronto', 'West Toronto',\n",
       "       'Central Toronto'], dtype=object)"
      ]
     },
     "execution_count": 91,
     "metadata": {},
     "output_type": "execute_result"
    }
   ],
   "source": [
    "data_toronto['Borough'].unique()"
   ]
  },
  {
   "cell_type": "code",
   "execution_count": 92,
   "metadata": {},
   "outputs": [
    {
     "data": {
      "text/plain": [
       "39"
      ]
     },
     "execution_count": 92,
     "metadata": {},
     "output_type": "execute_result"
    }
   ],
   "source": [
    "data_toronto['Neighbourhood'].nunique()"
   ]
  },
  {
   "cell_type": "code",
   "execution_count": 93,
   "metadata": {},
   "outputs": [
    {
     "name": "stdout",
     "output_type": "stream",
     "text": [
      "Requirement already satisfied: folium in /opt/conda/envs/Python36/lib/python3.6/site-packages (0.10.1)\n",
      "Requirement already satisfied: requests in /opt/conda/envs/Python36/lib/python3.6/site-packages (from folium) (2.21.0)\n",
      "Requirement already satisfied: branca>=0.3.0 in /opt/conda/envs/Python36/lib/python3.6/site-packages (from folium) (0.3.1)\n",
      "Requirement already satisfied: numpy in /opt/conda/envs/Python36/lib/python3.6/site-packages (from folium) (1.15.4)\n",
      "Requirement already satisfied: jinja2>=2.9 in /opt/conda/envs/Python36/lib/python3.6/site-packages (from folium) (2.10)\n",
      "Requirement already satisfied: chardet<3.1.0,>=3.0.2 in /opt/conda/envs/Python36/lib/python3.6/site-packages (from requests->folium) (3.0.4)\n",
      "Requirement already satisfied: idna<2.9,>=2.5 in /opt/conda/envs/Python36/lib/python3.6/site-packages (from requests->folium) (2.8)\n",
      "Requirement already satisfied: certifi>=2017.4.17 in /opt/conda/envs/Python36/lib/python3.6/site-packages (from requests->folium) (2019.9.11)\n",
      "Requirement already satisfied: urllib3<1.25,>=1.21.1 in /opt/conda/envs/Python36/lib/python3.6/site-packages (from requests->folium) (1.24.1)\n",
      "Requirement already satisfied: six in /opt/conda/envs/Python36/lib/python3.6/site-packages (from branca>=0.3.0->folium) (1.12.0)\n",
      "Requirement already satisfied: MarkupSafe>=0.23 in /opt/conda/envs/Python36/lib/python3.6/site-packages (from jinja2>=2.9->folium) (1.1.0)\n"
     ]
    }
   ],
   "source": [
    "import json \n",
    "import requests \n",
    "\n",
    "from sklearn.cluster import KMeans \n",
    "\n",
    "!pip install folium\n",
    "import folium"
   ]
  },
  {
   "cell_type": "code",
   "execution_count": 94,
   "metadata": {},
   "outputs": [
    {
     "data": {
      "text/html": [
       "<div style=\"width:100%;\"><div style=\"position:relative;width:100%;height:0;padding-bottom:60%;\"><iframe src=\"data:text/html;charset=utf-8;base64,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\" style=\"position:absolute;width:100%;height:100%;left:0;top:0;border:none !important;\" allowfullscreen webkitallowfullscreen mozallowfullscreen></iframe></div></div>"
      ],
      "text/plain": [
       "<folium.folium.Map at 0x7f6da9ae5d30>"
      ]
     },
     "execution_count": 94,
     "metadata": {},
     "output_type": "execute_result"
    }
   ],
   "source": [
    "latitude, longitude = data_toronto.loc[0, 'Latitude'], data_toronto.loc[0, 'Longitude']\n",
    "map_toronto = folium.Map(location=[latitude, longitude], zoom_start=12)\n",
    "\n",
    "for lat, lng, borough, neighborhood in zip(data_toronto['Latitude'], data_toronto['Longitude'], \n",
    "                                            data_toronto['Borough'], data_toronto['Neighbourhood']):\n",
    "    label = f\"{neighborhood}, {borough}\"\n",
    "    label = folium.Popup(label, parse_html=True)\n",
    "    folium.CircleMarker(\n",
    "        [lat, lng],\n",
    "        radius=5,\n",
    "        popup=label,\n",
    "        color='black',\n",
    "        fill=True,\n",
    "        fill_color='#1E90FF',\n",
    "        fill_opacity=0.7,\n",
    "        parse_html=False).add_to(map_toronto)  \n",
    "    \n",
    "map_toronto"
   ]
  },
  {
   "cell_type": "code",
   "execution_count": null,
   "metadata": {},
   "outputs": [],
   "source": []
  },
  {
   "cell_type": "markdown",
   "metadata": {},
   "source": [
    "# New York"
   ]
  },
  {
   "cell_type": "code",
   "execution_count": 95,
   "metadata": {},
   "outputs": [],
   "source": [
    "url2 = \"https://www.health.ny.gov/statistics/cancer/registry/appendix/neighborhoods.htm\"\n",
    "data2 = pd.read_html(url2)[0]"
   ]
  },
  {
   "cell_type": "code",
   "execution_count": 96,
   "metadata": {},
   "outputs": [
    {
     "data": {
      "text/html": [
       "<div>\n",
       "<style scoped>\n",
       "    .dataframe tbody tr th:only-of-type {\n",
       "        vertical-align: middle;\n",
       "    }\n",
       "\n",
       "    .dataframe tbody tr th {\n",
       "        vertical-align: top;\n",
       "    }\n",
       "\n",
       "    .dataframe thead th {\n",
       "        text-align: right;\n",
       "    }\n",
       "</style>\n",
       "<table border=\"1\" class=\"dataframe\">\n",
       "  <thead>\n",
       "    <tr style=\"text-align: right;\">\n",
       "      <th></th>\n",
       "      <th>Borough</th>\n",
       "      <th>Neighborhood</th>\n",
       "      <th>ZIP Codes</th>\n",
       "    </tr>\n",
       "  </thead>\n",
       "  <tbody>\n",
       "    <tr>\n",
       "      <th>0</th>\n",
       "      <td>Bronx</td>\n",
       "      <td>Central Bronx</td>\n",
       "      <td>10453</td>\n",
       "    </tr>\n",
       "    <tr>\n",
       "      <th>0</th>\n",
       "      <td>Bronx</td>\n",
       "      <td>Central Bronx</td>\n",
       "      <td>10457</td>\n",
       "    </tr>\n",
       "    <tr>\n",
       "      <th>0</th>\n",
       "      <td>Bronx</td>\n",
       "      <td>Central Bronx</td>\n",
       "      <td>10460</td>\n",
       "    </tr>\n",
       "    <tr>\n",
       "      <th>1</th>\n",
       "      <td>Bronx</td>\n",
       "      <td>Bronx Park and Fordham</td>\n",
       "      <td>10458</td>\n",
       "    </tr>\n",
       "    <tr>\n",
       "      <th>1</th>\n",
       "      <td>Bronx</td>\n",
       "      <td>Bronx Park and Fordham</td>\n",
       "      <td>10467</td>\n",
       "    </tr>\n",
       "  </tbody>\n",
       "</table>\n",
       "</div>"
      ],
      "text/plain": [
       "  Borough            Neighborhood ZIP Codes\n",
       "0   Bronx           Central Bronx     10453\n",
       "0   Bronx           Central Bronx     10457\n",
       "0   Bronx           Central Bronx     10460\n",
       "1   Bronx  Bronx Park and Fordham     10458\n",
       "1   Bronx  Bronx Park and Fordham     10467"
      ]
     },
     "execution_count": 96,
     "metadata": {},
     "output_type": "execute_result"
    }
   ],
   "source": [
    "from itertools import chain\n",
    "\n",
    "# return list from series of comma-separated strings\n",
    "def chainer(s):\n",
    "    return list(chain.from_iterable(s.str.split(',')))\n",
    "\n",
    "# calculate lengths of splits\n",
    "lens = data2['ZIP Codes'].str.split(',').map(len)\n",
    "\n",
    "# create new dataframe, repeating or chaining as appropriate\n",
    "data3 = pd.DataFrame({'Borough': np.repeat(data2['Borough'], lens),\n",
    "                    'Neighborhood': np.repeat(data2['Neighborhood'], lens),\n",
    "                    'ZIP Codes': chainer(data2['ZIP Codes'])})\n",
    "\n",
    "data3.head()"
   ]
  },
  {
   "cell_type": "code",
   "execution_count": 97,
   "metadata": {},
   "outputs": [
    {
     "data": {
      "text/plain": [
       "(178, 178, True)"
      ]
     },
     "execution_count": 97,
     "metadata": {},
     "output_type": "execute_result"
    }
   ],
   "source": [
    "data3['ZIP Codes'].nunique(), len(data3), data3['ZIP Codes'].nunique() == len(data3)"
   ]
  },
  {
   "cell_type": "code",
   "execution_count": 98,
   "metadata": {},
   "outputs": [],
   "source": [
    "post_neighbour_dic2 = {}\n",
    "for _, row2 in data3.iterrows():\n",
    "    if row2['ZIP Codes'] in post_neighbour_dic2:\n",
    "        post_neighbour_dic2[row2['ZIP Codes']].append(row2['Neighborhood']) \n",
    "    else:\n",
    "        post_neighbour_dic2[row2['ZIP Codes']] = [row2['Neighborhood']]"
   ]
  },
  {
   "cell_type": "code",
   "execution_count": 99,
   "metadata": {},
   "outputs": [],
   "source": [
    "data3.drop_duplicates(inplace=True)"
   ]
  },
  {
   "cell_type": "code",
   "execution_count": 100,
   "metadata": {},
   "outputs": [
    {
     "data": {
      "text/html": [
       "<div>\n",
       "<style scoped>\n",
       "    .dataframe tbody tr th:only-of-type {\n",
       "        vertical-align: middle;\n",
       "    }\n",
       "\n",
       "    .dataframe tbody tr th {\n",
       "        vertical-align: top;\n",
       "    }\n",
       "\n",
       "    .dataframe thead th {\n",
       "        text-align: right;\n",
       "    }\n",
       "</style>\n",
       "<table border=\"1\" class=\"dataframe\">\n",
       "  <thead>\n",
       "    <tr style=\"text-align: right;\">\n",
       "      <th></th>\n",
       "      <th>Borough</th>\n",
       "      <th>Neighborhood</th>\n",
       "      <th>ZIP Codes</th>\n",
       "    </tr>\n",
       "  </thead>\n",
       "  <tbody>\n",
       "    <tr>\n",
       "      <th>21</th>\n",
       "      <td>Manhattan</td>\n",
       "      <td>Gramercy Park and Murray Hill</td>\n",
       "      <td>10017</td>\n",
       "    </tr>\n",
       "    <tr>\n",
       "      <th>34</th>\n",
       "      <td>Queens</td>\n",
       "      <td>Rockaways</td>\n",
       "      <td>11691</td>\n",
       "    </tr>\n",
       "    <tr>\n",
       "      <th>23</th>\n",
       "      <td>Manhattan</td>\n",
       "      <td>Lower Manhattan</td>\n",
       "      <td>10004</td>\n",
       "    </tr>\n",
       "    <tr>\n",
       "      <th>29</th>\n",
       "      <td>Queens</td>\n",
       "      <td>North Queens</td>\n",
       "      <td>11359</td>\n",
       "    </tr>\n",
       "    <tr>\n",
       "      <th>24</th>\n",
       "      <td>Manhattan</td>\n",
       "      <td>Lower East Side</td>\n",
       "      <td>10003</td>\n",
       "    </tr>\n",
       "    <tr>\n",
       "      <th>31</th>\n",
       "      <td>Queens</td>\n",
       "      <td>Jamaica</td>\n",
       "      <td>11412</td>\n",
       "    </tr>\n",
       "    <tr>\n",
       "      <th>12</th>\n",
       "      <td>Brooklyn</td>\n",
       "      <td>Northwest Brooklyn</td>\n",
       "      <td>11215</td>\n",
       "    </tr>\n",
       "    <tr>\n",
       "      <th>29</th>\n",
       "      <td>Queens</td>\n",
       "      <td>North Queens</td>\n",
       "      <td>11360</td>\n",
       "    </tr>\n",
       "    <tr>\n",
       "      <th>22</th>\n",
       "      <td>Manhattan</td>\n",
       "      <td>Greenwich Village and Soho</td>\n",
       "      <td>10012</td>\n",
       "    </tr>\n",
       "    <tr>\n",
       "      <th>0</th>\n",
       "      <td>Bronx</td>\n",
       "      <td>Central Bronx</td>\n",
       "      <td>10460</td>\n",
       "    </tr>\n",
       "  </tbody>\n",
       "</table>\n",
       "</div>"
      ],
      "text/plain": [
       "      Borough                   Neighborhood ZIP Codes\n",
       "21  Manhattan  Gramercy Park and Murray Hill     10017\n",
       "34     Queens                      Rockaways     11691\n",
       "23  Manhattan                Lower Manhattan     10004\n",
       "29     Queens                   North Queens     11359\n",
       "24  Manhattan                Lower East Side     10003\n",
       "31     Queens                        Jamaica     11412\n",
       "12   Brooklyn             Northwest Brooklyn     11215\n",
       "29     Queens                   North Queens     11360\n",
       "22  Manhattan     Greenwich Village and Soho     10012\n",
       "0       Bronx                  Central Bronx     10460"
      ]
     },
     "execution_count": 100,
     "metadata": {},
     "output_type": "execute_result"
    }
   ],
   "source": [
    "data3.sample(10)"
   ]
  },
  {
   "cell_type": "code",
   "execution_count": 101,
   "metadata": {},
   "outputs": [
    {
     "data": {
      "text/plain": [
       "0"
      ]
     },
     "execution_count": 101,
     "metadata": {},
     "output_type": "execute_result"
    }
   ],
   "source": [
    "sum(data3['Neighborhood'] == 'Not assigned')"
   ]
  },
  {
   "cell_type": "code",
   "execution_count": 102,
   "metadata": {},
   "outputs": [],
   "source": [
    "nomi2 = pgeocode.Nominatim('us')"
   ]
  },
  {
   "cell_type": "code",
   "execution_count": 103,
   "metadata": {},
   "outputs": [],
   "source": [
    "data3['Latitude'] = data3['ZIP Codes'].apply(lambda x: nomi2.query_postal_code(x))['latitude']\n",
    "data3['Longitude'] = data3['ZIP Codes'].apply(lambda x: nomi2.query_postal_code(x))['longitude']"
   ]
  },
  {
   "cell_type": "code",
   "execution_count": 104,
   "metadata": {},
   "outputs": [
    {
     "data": {
      "text/html": [
       "<div>\n",
       "<style scoped>\n",
       "    .dataframe tbody tr th:only-of-type {\n",
       "        vertical-align: middle;\n",
       "    }\n",
       "\n",
       "    .dataframe tbody tr th {\n",
       "        vertical-align: top;\n",
       "    }\n",
       "\n",
       "    .dataframe thead th {\n",
       "        text-align: right;\n",
       "    }\n",
       "</style>\n",
       "<table border=\"1\" class=\"dataframe\">\n",
       "  <thead>\n",
       "    <tr style=\"text-align: right;\">\n",
       "      <th></th>\n",
       "      <th>Borough</th>\n",
       "      <th>Neighborhood</th>\n",
       "      <th>ZIP Codes</th>\n",
       "      <th>Latitude</th>\n",
       "      <th>Longitude</th>\n",
       "    </tr>\n",
       "  </thead>\n",
       "  <tbody>\n",
       "    <tr>\n",
       "      <th>0</th>\n",
       "      <td>Bronx</td>\n",
       "      <td>Central Bronx</td>\n",
       "      <td>10453</td>\n",
       "      <td>40.8520</td>\n",
       "      <td>-73.9129</td>\n",
       "    </tr>\n",
       "    <tr>\n",
       "      <th>0</th>\n",
       "      <td>Bronx</td>\n",
       "      <td>Central Bronx</td>\n",
       "      <td>10457</td>\n",
       "      <td>NaN</td>\n",
       "      <td>NaN</td>\n",
       "    </tr>\n",
       "    <tr>\n",
       "      <th>0</th>\n",
       "      <td>Bronx</td>\n",
       "      <td>Central Bronx</td>\n",
       "      <td>10460</td>\n",
       "      <td>NaN</td>\n",
       "      <td>NaN</td>\n",
       "    </tr>\n",
       "    <tr>\n",
       "      <th>1</th>\n",
       "      <td>Bronx</td>\n",
       "      <td>Bronx Park and Fordham</td>\n",
       "      <td>10458</td>\n",
       "      <td>40.8633</td>\n",
       "      <td>-73.8895</td>\n",
       "    </tr>\n",
       "    <tr>\n",
       "      <th>1</th>\n",
       "      <td>Bronx</td>\n",
       "      <td>Bronx Park and Fordham</td>\n",
       "      <td>10467</td>\n",
       "      <td>NaN</td>\n",
       "      <td>NaN</td>\n",
       "    </tr>\n",
       "  </tbody>\n",
       "</table>\n",
       "</div>"
      ],
      "text/plain": [
       "  Borough            Neighborhood ZIP Codes  Latitude  Longitude\n",
       "0   Bronx           Central Bronx     10453   40.8520   -73.9129\n",
       "0   Bronx           Central Bronx     10457       NaN        NaN\n",
       "0   Bronx           Central Bronx     10460       NaN        NaN\n",
       "1   Bronx  Bronx Park and Fordham     10458   40.8633   -73.8895\n",
       "1   Bronx  Bronx Park and Fordham     10467       NaN        NaN"
      ]
     },
     "execution_count": 104,
     "metadata": {},
     "output_type": "execute_result"
    }
   ],
   "source": [
    "data3.head()"
   ]
  },
  {
   "cell_type": "code",
   "execution_count": 105,
   "metadata": {},
   "outputs": [
    {
     "data": {
      "text/plain": [
       "array(['Bronx', 'Brooklyn', 'Manhattan', 'Queens', 'Staten Island'],\n",
       "      dtype=object)"
      ]
     },
     "execution_count": 105,
     "metadata": {},
     "output_type": "execute_result"
    }
   ],
   "source": [
    "data3['Borough'].unique()"
   ]
  },
  {
   "cell_type": "code",
   "execution_count": 106,
   "metadata": {},
   "outputs": [
    {
     "data": {
      "text/plain": [
       "42"
      ]
     },
     "execution_count": 106,
     "metadata": {},
     "output_type": "execute_result"
    }
   ],
   "source": [
    "data3['Neighborhood'].nunique()"
   ]
  },
  {
   "cell_type": "code",
   "execution_count": 107,
   "metadata": {},
   "outputs": [],
   "source": [
    "data3 = data3.dropna()"
   ]
  },
  {
   "cell_type": "code",
   "execution_count": 108,
   "metadata": {},
   "outputs": [
    {
     "data": {
      "text/html": [
       "<div style=\"width:100%;\"><div style=\"position:relative;width:100%;height:0;padding-bottom:60%;\"><iframe src=\"data:text/html;charset=utf-8;base64,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\" style=\"position:absolute;width:100%;height:100%;left:0;top:0;border:none !important;\" allowfullscreen webkitallowfullscreen mozallowfullscreen></iframe></div></div>"
      ],
      "text/plain": [
       "<folium.folium.Map at 0x7f6da9cccd68>"
      ]
     },
     "execution_count": 108,
     "metadata": {},
     "output_type": "execute_result"
    }
   ],
   "source": [
    "latitude, longitude = data3.loc[0, 'Latitude'], data3.loc[0, 'Longitude']\n",
    "map_ny = folium.Map(location=[latitude, longitude], zoom_start=12)\n",
    "\n",
    "for lat, lng, borough, neighborhood in zip(data3['Latitude'], data3['Longitude'], \n",
    "                                            data3['Borough'], data3['Neighborhood']):\n",
    "    label = f\"{neighborhood}, {borough}\"\n",
    "    label = folium.Popup(label, parse_html=True)\n",
    "    folium.CircleMarker(\n",
    "        [lat, lng],\n",
    "        radius=5,\n",
    "        popup=label,\n",
    "        color='black',\n",
    "        fill=True,\n",
    "        fill_color='#1E90FF',\n",
    "        fill_opacity=0.7,\n",
    "        parse_html=False).add_to(map_ny)  \n",
    "    \n",
    "map_ny"
   ]
  },
  {
   "cell_type": "code",
   "execution_count": null,
   "metadata": {},
   "outputs": [],
   "source": []
  },
  {
   "cell_type": "markdown",
   "metadata": {},
   "source": [
    "# Paris"
   ]
  },
  {
   "cell_type": "code",
   "execution_count": 109,
   "metadata": {},
   "outputs": [],
   "source": [
    "url3 = \"https://www.worldpostalcodes.org/en/france/arrondissement/map-of-postal-codes-in-paris\"\n",
    "data4 = pd.read_html(url3)[0]"
   ]
  },
  {
   "cell_type": "code",
   "execution_count": 110,
   "metadata": {},
   "outputs": [
    {
     "data": {
      "text/html": [
       "<div>\n",
       "<style scoped>\n",
       "    .dataframe tbody tr th:only-of-type {\n",
       "        vertical-align: middle;\n",
       "    }\n",
       "\n",
       "    .dataframe tbody tr th {\n",
       "        vertical-align: top;\n",
       "    }\n",
       "\n",
       "    .dataframe thead th {\n",
       "        text-align: right;\n",
       "    }\n",
       "</style>\n",
       "<table border=\"1\" class=\"dataframe\">\n",
       "  <thead>\n",
       "    <tr style=\"text-align: right;\">\n",
       "      <th></th>\n",
       "      <th>PostalCodes</th>\n",
       "    </tr>\n",
       "  </thead>\n",
       "  <tbody>\n",
       "    <tr>\n",
       "      <th>0</th>\n",
       "      <td>75001</td>\n",
       "    </tr>\n",
       "    <tr>\n",
       "      <th>1</th>\n",
       "      <td>75002</td>\n",
       "    </tr>\n",
       "    <tr>\n",
       "      <th>2</th>\n",
       "      <td>75003</td>\n",
       "    </tr>\n",
       "    <tr>\n",
       "      <th>3</th>\n",
       "      <td>75004</td>\n",
       "    </tr>\n",
       "    <tr>\n",
       "      <th>4</th>\n",
       "      <td>75005</td>\n",
       "    </tr>\n",
       "  </tbody>\n",
       "</table>\n",
       "</div>"
      ],
      "text/plain": [
       "   PostalCodes\n",
       "0        75001\n",
       "1        75002\n",
       "2        75003\n",
       "3        75004\n",
       "4        75005"
      ]
     },
     "execution_count": 110,
     "metadata": {},
     "output_type": "execute_result"
    }
   ],
   "source": [
    "data4 = pd.DataFrame({'PostalCodes':data4.values.ravel()})\n",
    "data4 = data4.dropna()\n",
    "data4 = data4.astype({'PostalCodes': int})\n",
    "\n",
    "data4.head()"
   ]
  },
  {
   "cell_type": "code",
   "execution_count": 118,
   "metadata": {},
   "outputs": [],
   "source": [
    "data4 = data4.assign(Borough = 'Paris')\n",
    "data4 = data4.assign(Neighborhood = 'Paris')"
   ]
  },
  {
   "cell_type": "code",
   "execution_count": 119,
   "metadata": {},
   "outputs": [
    {
     "data": {
      "text/html": [
       "<div>\n",
       "<style scoped>\n",
       "    .dataframe tbody tr th:only-of-type {\n",
       "        vertical-align: middle;\n",
       "    }\n",
       "\n",
       "    .dataframe tbody tr th {\n",
       "        vertical-align: top;\n",
       "    }\n",
       "\n",
       "    .dataframe thead th {\n",
       "        text-align: right;\n",
       "    }\n",
       "</style>\n",
       "<table border=\"1\" class=\"dataframe\">\n",
       "  <thead>\n",
       "    <tr style=\"text-align: right;\">\n",
       "      <th></th>\n",
       "      <th>PostalCodes</th>\n",
       "      <th>Borough</th>\n",
       "      <th>Neighborhood</th>\n",
       "    </tr>\n",
       "  </thead>\n",
       "  <tbody>\n",
       "    <tr>\n",
       "      <th>0</th>\n",
       "      <td>75001</td>\n",
       "      <td>Paris</td>\n",
       "      <td>Paris</td>\n",
       "    </tr>\n",
       "    <tr>\n",
       "      <th>1</th>\n",
       "      <td>75002</td>\n",
       "      <td>Paris</td>\n",
       "      <td>Paris</td>\n",
       "    </tr>\n",
       "    <tr>\n",
       "      <th>2</th>\n",
       "      <td>75003</td>\n",
       "      <td>Paris</td>\n",
       "      <td>Paris</td>\n",
       "    </tr>\n",
       "    <tr>\n",
       "      <th>3</th>\n",
       "      <td>75004</td>\n",
       "      <td>Paris</td>\n",
       "      <td>Paris</td>\n",
       "    </tr>\n",
       "    <tr>\n",
       "      <th>4</th>\n",
       "      <td>75005</td>\n",
       "      <td>Paris</td>\n",
       "      <td>Paris</td>\n",
       "    </tr>\n",
       "  </tbody>\n",
       "</table>\n",
       "</div>"
      ],
      "text/plain": [
       "   PostalCodes Borough Neighborhood\n",
       "0        75001   Paris        Paris\n",
       "1        75002   Paris        Paris\n",
       "2        75003   Paris        Paris\n",
       "3        75004   Paris        Paris\n",
       "4        75005   Paris        Paris"
      ]
     },
     "execution_count": 119,
     "metadata": {},
     "output_type": "execute_result"
    }
   ],
   "source": [
    "data4.head()"
   ]
  },
  {
   "cell_type": "code",
   "execution_count": 120,
   "metadata": {},
   "outputs": [
    {
     "data": {
      "text/plain": [
       "(21, 21, True)"
      ]
     },
     "execution_count": 120,
     "metadata": {},
     "output_type": "execute_result"
    }
   ],
   "source": [
    "data4['PostalCodes'].nunique(), len(data4), data4['PostalCodes'].nunique() == len(data4)"
   ]
  },
  {
   "cell_type": "code",
   "execution_count": 121,
   "metadata": {},
   "outputs": [],
   "source": [
    "data4.drop_duplicates(inplace=True)"
   ]
  },
  {
   "cell_type": "code",
   "execution_count": 122,
   "metadata": {},
   "outputs": [
    {
     "data": {
      "text/html": [
       "<div>\n",
       "<style scoped>\n",
       "    .dataframe tbody tr th:only-of-type {\n",
       "        vertical-align: middle;\n",
       "    }\n",
       "\n",
       "    .dataframe tbody tr th {\n",
       "        vertical-align: top;\n",
       "    }\n",
       "\n",
       "    .dataframe thead th {\n",
       "        text-align: right;\n",
       "    }\n",
       "</style>\n",
       "<table border=\"1\" class=\"dataframe\">\n",
       "  <thead>\n",
       "    <tr style=\"text-align: right;\">\n",
       "      <th></th>\n",
       "      <th>PostalCodes</th>\n",
       "      <th>Borough</th>\n",
       "      <th>Neighborhood</th>\n",
       "    </tr>\n",
       "  </thead>\n",
       "  <tbody>\n",
       "    <tr>\n",
       "      <th>1</th>\n",
       "      <td>75002</td>\n",
       "      <td>Paris</td>\n",
       "      <td>Paris</td>\n",
       "    </tr>\n",
       "    <tr>\n",
       "      <th>14</th>\n",
       "      <td>75015</td>\n",
       "      <td>Paris</td>\n",
       "      <td>Paris</td>\n",
       "    </tr>\n",
       "    <tr>\n",
       "      <th>3</th>\n",
       "      <td>75004</td>\n",
       "      <td>Paris</td>\n",
       "      <td>Paris</td>\n",
       "    </tr>\n",
       "    <tr>\n",
       "      <th>2</th>\n",
       "      <td>75003</td>\n",
       "      <td>Paris</td>\n",
       "      <td>Paris</td>\n",
       "    </tr>\n",
       "    <tr>\n",
       "      <th>11</th>\n",
       "      <td>75012</td>\n",
       "      <td>Paris</td>\n",
       "      <td>Paris</td>\n",
       "    </tr>\n",
       "    <tr>\n",
       "      <th>4</th>\n",
       "      <td>75005</td>\n",
       "      <td>Paris</td>\n",
       "      <td>Paris</td>\n",
       "    </tr>\n",
       "    <tr>\n",
       "      <th>18</th>\n",
       "      <td>75019</td>\n",
       "      <td>Paris</td>\n",
       "      <td>Paris</td>\n",
       "    </tr>\n",
       "    <tr>\n",
       "      <th>19</th>\n",
       "      <td>75020</td>\n",
       "      <td>Paris</td>\n",
       "      <td>Paris</td>\n",
       "    </tr>\n",
       "    <tr>\n",
       "      <th>16</th>\n",
       "      <td>75017</td>\n",
       "      <td>Paris</td>\n",
       "      <td>Paris</td>\n",
       "    </tr>\n",
       "    <tr>\n",
       "      <th>5</th>\n",
       "      <td>75006</td>\n",
       "      <td>Paris</td>\n",
       "      <td>Paris</td>\n",
       "    </tr>\n",
       "  </tbody>\n",
       "</table>\n",
       "</div>"
      ],
      "text/plain": [
       "    PostalCodes Borough Neighborhood\n",
       "1         75002   Paris        Paris\n",
       "14        75015   Paris        Paris\n",
       "3         75004   Paris        Paris\n",
       "2         75003   Paris        Paris\n",
       "11        75012   Paris        Paris\n",
       "4         75005   Paris        Paris\n",
       "18        75019   Paris        Paris\n",
       "19        75020   Paris        Paris\n",
       "16        75017   Paris        Paris\n",
       "5         75006   Paris        Paris"
      ]
     },
     "execution_count": 122,
     "metadata": {},
     "output_type": "execute_result"
    }
   ],
   "source": [
    "data4.sample(10)"
   ]
  },
  {
   "cell_type": "code",
   "execution_count": 123,
   "metadata": {},
   "outputs": [],
   "source": [
    "nomi3 = pgeocode.Nominatim('fr')"
   ]
  },
  {
   "cell_type": "code",
   "execution_count": 124,
   "metadata": {},
   "outputs": [],
   "source": [
    "data4['Latitude'] = data4['PostalCodes'].apply(lambda x: nomi3.query_postal_code(x))['latitude']\n",
    "data4['Longitude'] = data4['PostalCodes'].apply(lambda x: nomi3.query_postal_code(x))['longitude']"
   ]
  },
  {
   "cell_type": "code",
   "execution_count": 125,
   "metadata": {},
   "outputs": [
    {
     "data": {
      "text/html": [
       "<div>\n",
       "<style scoped>\n",
       "    .dataframe tbody tr th:only-of-type {\n",
       "        vertical-align: middle;\n",
       "    }\n",
       "\n",
       "    .dataframe tbody tr th {\n",
       "        vertical-align: top;\n",
       "    }\n",
       "\n",
       "    .dataframe thead th {\n",
       "        text-align: right;\n",
       "    }\n",
       "</style>\n",
       "<table border=\"1\" class=\"dataframe\">\n",
       "  <thead>\n",
       "    <tr style=\"text-align: right;\">\n",
       "      <th></th>\n",
       "      <th>PostalCodes</th>\n",
       "      <th>Borough</th>\n",
       "      <th>Neighborhood</th>\n",
       "      <th>Latitude</th>\n",
       "      <th>Longitude</th>\n",
       "    </tr>\n",
       "  </thead>\n",
       "  <tbody>\n",
       "    <tr>\n",
       "      <th>0</th>\n",
       "      <td>75001</td>\n",
       "      <td>Paris</td>\n",
       "      <td>Paris</td>\n",
       "      <td>48.8592</td>\n",
       "      <td>2.34525</td>\n",
       "    </tr>\n",
       "    <tr>\n",
       "      <th>1</th>\n",
       "      <td>75002</td>\n",
       "      <td>Paris</td>\n",
       "      <td>Paris</td>\n",
       "      <td>48.8655</td>\n",
       "      <td>2.34570</td>\n",
       "    </tr>\n",
       "    <tr>\n",
       "      <th>2</th>\n",
       "      <td>75003</td>\n",
       "      <td>Paris</td>\n",
       "      <td>Paris</td>\n",
       "      <td>48.8637</td>\n",
       "      <td>2.35515</td>\n",
       "    </tr>\n",
       "    <tr>\n",
       "      <th>3</th>\n",
       "      <td>75004</td>\n",
       "      <td>Paris</td>\n",
       "      <td>Paris</td>\n",
       "      <td>48.8601</td>\n",
       "      <td>2.34975</td>\n",
       "    </tr>\n",
       "    <tr>\n",
       "      <th>4</th>\n",
       "      <td>75005</td>\n",
       "      <td>Paris</td>\n",
       "      <td>Paris</td>\n",
       "      <td>48.8448</td>\n",
       "      <td>2.34795</td>\n",
       "    </tr>\n",
       "  </tbody>\n",
       "</table>\n",
       "</div>"
      ],
      "text/plain": [
       "   PostalCodes Borough Neighborhood  Latitude  Longitude\n",
       "0        75001   Paris        Paris   48.8592    2.34525\n",
       "1        75002   Paris        Paris   48.8655    2.34570\n",
       "2        75003   Paris        Paris   48.8637    2.35515\n",
       "3        75004   Paris        Paris   48.8601    2.34975\n",
       "4        75005   Paris        Paris   48.8448    2.34795"
      ]
     },
     "execution_count": 125,
     "metadata": {},
     "output_type": "execute_result"
    }
   ],
   "source": [
    "data4.head()"
   ]
  },
  {
   "cell_type": "code",
   "execution_count": 372,
   "metadata": {},
   "outputs": [
    {
     "data": {
      "text/html": [
       "<div style=\"width:100%;\"><div style=\"position:relative;width:100%;height:0;padding-bottom:60%;\"><iframe src=\"data:text/html;charset=utf-8;base64,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\" style=\"position:absolute;width:100%;height:100%;left:0;top:0;border:none !important;\" allowfullscreen webkitallowfullscreen mozallowfullscreen></iframe></div></div>"
      ],
      "text/plain": [
       "<folium.folium.Map at 0x7f6da9746f28>"
      ]
     },
     "execution_count": 372,
     "metadata": {},
     "output_type": "execute_result"
    }
   ],
   "source": [
    "latitude, longitude = data4.loc[0, 'Latitude'], data4.loc[0, 'Longitude']\n",
    "map_paris = folium.Map(location=[latitude, longitude], zoom_start=12)\n",
    "\n",
    "for lat, lng, borough, neighborhood in zip(data4['Latitude'], data4['Longitude'], \n",
    "                                            data4['Borough'], data4['Neighborhood']):\n",
    "    label = f\"{neighborhood}, {borough}\"\n",
    "    label = folium.Popup(label, parse_html=True)\n",
    "    folium.CircleMarker(\n",
    "        [lat, lng],\n",
    "        radius=5,\n",
    "        popup=label,\n",
    "        color='black',\n",
    "        fill=True,\n",
    "        fill_color='#1E90FF',\n",
    "        fill_opacity=0.7,\n",
    "        parse_html=False).add_to(map_paris)  \n",
    "    \n",
    "map_paris"
   ]
  },
  {
   "cell_type": "code",
   "execution_count": null,
   "metadata": {},
   "outputs": [],
   "source": []
  },
  {
   "cell_type": "markdown",
   "metadata": {},
   "source": [
    "# London"
   ]
  },
  {
   "cell_type": "code",
   "execution_count": 357,
   "metadata": {},
   "outputs": [
    {
     "data": {
      "text/html": [
       "<div>\n",
       "<style scoped>\n",
       "    .dataframe tbody tr th:only-of-type {\n",
       "        vertical-align: middle;\n",
       "    }\n",
       "\n",
       "    .dataframe tbody tr th {\n",
       "        vertical-align: top;\n",
       "    }\n",
       "\n",
       "    .dataframe thead th {\n",
       "        text-align: right;\n",
       "    }\n",
       "</style>\n",
       "<table border=\"1\" class=\"dataframe\">\n",
       "  <thead>\n",
       "    <tr style=\"text-align: right;\">\n",
       "      <th></th>\n",
       "      <th>Postcode district</th>\n",
       "      <th>Post town</th>\n",
       "      <th>Coverage</th>\n",
       "      <th>Local authority area</th>\n",
       "    </tr>\n",
       "  </thead>\n",
       "  <tbody>\n",
       "    <tr>\n",
       "      <th>0</th>\n",
       "      <td>E1</td>\n",
       "      <td>LONDON</td>\n",
       "      <td>Eastern head district: Aldgate (part), Bishops...</td>\n",
       "      <td>Tower Hamlets, Hackney, City of London</td>\n",
       "    </tr>\n",
       "    <tr>\n",
       "      <th>1</th>\n",
       "      <td>E1W</td>\n",
       "      <td>LONDON</td>\n",
       "      <td>Wapping, St Katharine Docks, Stepney (part), S...</td>\n",
       "      <td>Tower Hamlets</td>\n",
       "    </tr>\n",
       "    <tr>\n",
       "      <th>2</th>\n",
       "      <td>E2</td>\n",
       "      <td>LONDON</td>\n",
       "      <td>Bethnal Green district: Bethnal Green, Haggers...</td>\n",
       "      <td>Tower Hamlets, Hackney</td>\n",
       "    </tr>\n",
       "    <tr>\n",
       "      <th>3</th>\n",
       "      <td>E3</td>\n",
       "      <td>LONDON</td>\n",
       "      <td>Bow district: Bow, Bow Common, Bromley-by-Bow,...</td>\n",
       "      <td>Tower Hamlets, Newham</td>\n",
       "    </tr>\n",
       "    <tr>\n",
       "      <th>4</th>\n",
       "      <td>E4</td>\n",
       "      <td>LONDON</td>\n",
       "      <td>Chingford district: Chingford, Sewardstone, Hi...</td>\n",
       "      <td>Waltham Forest, Enfield, Epping Forest (Essex)</td>\n",
       "    </tr>\n",
       "  </tbody>\n",
       "</table>\n",
       "</div>"
      ],
      "text/plain": [
       "  Postcode district Post town  \\\n",
       "0                E1    LONDON   \n",
       "1               E1W    LONDON   \n",
       "2                E2    LONDON   \n",
       "3                E3    LONDON   \n",
       "4                E4    LONDON   \n",
       "\n",
       "                                            Coverage  \\\n",
       "0  Eastern head district: Aldgate (part), Bishops...   \n",
       "1  Wapping, St Katharine Docks, Stepney (part), S...   \n",
       "2  Bethnal Green district: Bethnal Green, Haggers...   \n",
       "3  Bow district: Bow, Bow Common, Bromley-by-Bow,...   \n",
       "4  Chingford district: Chingford, Sewardstone, Hi...   \n",
       "\n",
       "                             Local authority area  \n",
       "0          Tower Hamlets, Hackney, City of London  \n",
       "1                                   Tower Hamlets  \n",
       "2                          Tower Hamlets, Hackney  \n",
       "3                           Tower Hamlets, Newham  \n",
       "4  Waltham Forest, Enfield, Epping Forest (Essex)  "
      ]
     },
     "execution_count": 357,
     "metadata": {},
     "output_type": "execute_result"
    }
   ],
   "source": [
    "urlE = \"https://en.wikipedia.org/wiki/E_postcode_area\"\n",
    "dataE = pd.read_html(urlE)[1]\n",
    "\n",
    "urlEC = \"https://en.wikipedia.org/wiki/EC_postcode_area\"\n",
    "dataEC = pd.read_html(urlEC)[1]\n",
    "\n",
    "urlN = \"https://en.wikipedia.org/wiki/N_postcode_area\"\n",
    "dataN = pd.read_html(urlN)[1]\n",
    "\n",
    "urlNW = \"https://en.wikipedia.org/wiki/NW_postcode_area\"\n",
    "dataNW = pd.read_html(urlNW)[1]\n",
    "\n",
    "urlSE = \"https://en.wikipedia.org/wiki/SE_postcode_area\"\n",
    "dataSE = pd.read_html(urlSE)[1]\n",
    "\n",
    "urlSW = \"https://en.wikipedia.org/wiki/SW_postcode_area\"\n",
    "dataSW = pd.read_html(urlSW)[1]\n",
    "\n",
    "urlW = \"https://en.wikipedia.org/wiki/W_postcode_area\"\n",
    "dataW = pd.read_html(urlW)[1]\n",
    "\n",
    "urlWC = \"https://en.wikipedia.org/wiki/WC_postcode_area\"\n",
    "dataWC = pd.read_html(urlWC)[1]\n",
    "\n",
    "\n",
    "data5 = dataE.append([dataEC, dataN, dataNW, dataSE, dataSW, dataW, dataWC])\n",
    "\n",
    "data5.head()"
   ]
  },
  {
   "cell_type": "code",
   "execution_count": 358,
   "metadata": {},
   "outputs": [
    {
     "data": {
      "text/plain": [
       "(184, 184, True)"
      ]
     },
     "execution_count": 358,
     "metadata": {},
     "output_type": "execute_result"
    }
   ],
   "source": [
    "data5['Postcode district'].nunique(), len(data5), data5['Postcode district'].nunique() == len(data5)"
   ]
  },
  {
   "cell_type": "code",
   "execution_count": 359,
   "metadata": {},
   "outputs": [],
   "source": [
    "data5.drop_duplicates(inplace=True)"
   ]
  },
  {
   "cell_type": "code",
   "execution_count": 360,
   "metadata": {},
   "outputs": [
    {
     "data": {
      "text/html": [
       "<div>\n",
       "<style scoped>\n",
       "    .dataframe tbody tr th:only-of-type {\n",
       "        vertical-align: middle;\n",
       "    }\n",
       "\n",
       "    .dataframe tbody tr th {\n",
       "        vertical-align: top;\n",
       "    }\n",
       "\n",
       "    .dataframe thead th {\n",
       "        text-align: right;\n",
       "    }\n",
       "</style>\n",
       "<table border=\"1\" class=\"dataframe\">\n",
       "  <thead>\n",
       "    <tr style=\"text-align: right;\">\n",
       "      <th></th>\n",
       "      <th>Postcode district</th>\n",
       "      <th>Post town</th>\n",
       "      <th>Coverage</th>\n",
       "      <th>Local authority area</th>\n",
       "    </tr>\n",
       "  </thead>\n",
       "  <tbody>\n",
       "    <tr>\n",
       "      <th>11</th>\n",
       "      <td>WC2H</td>\n",
       "      <td>LONDON</td>\n",
       "      <td>Leicester Square, St. Giles</td>\n",
       "      <td>Camden, Westminster</td>\n",
       "    </tr>\n",
       "    <tr>\n",
       "      <th>24</th>\n",
       "      <td>W13</td>\n",
       "      <td>LONDON</td>\n",
       "      <td>West Ealing district: West Ealing, Northfields...</td>\n",
       "      <td>Ealing</td>\n",
       "    </tr>\n",
       "    <tr>\n",
       "      <th>10</th>\n",
       "      <td>SE10</td>\n",
       "      <td>LONDON</td>\n",
       "      <td>Greenwich district: Greenwich, Maze Hill, Gree...</td>\n",
       "      <td>Greenwich, Lewisham</td>\n",
       "    </tr>\n",
       "    <tr>\n",
       "      <th>9</th>\n",
       "      <td>WC2B</td>\n",
       "      <td>LONDON</td>\n",
       "      <td>Drury Lane, Kingsway, Aldwych</td>\n",
       "      <td>Camden, Westminster</td>\n",
       "    </tr>\n",
       "    <tr>\n",
       "      <th>5</th>\n",
       "      <td>E5</td>\n",
       "      <td>LONDON</td>\n",
       "      <td>Clapton district: Leyton (Part), Upper Clapton...</td>\n",
       "      <td>Hackney, Waltham Forest</td>\n",
       "    </tr>\n",
       "    <tr>\n",
       "      <th>24</th>\n",
       "      <td>N81</td>\n",
       "      <td>LONDON</td>\n",
       "      <td>Electoral Reform Services</td>\n",
       "      <td>non-geographic</td>\n",
       "    </tr>\n",
       "    <tr>\n",
       "      <th>4</th>\n",
       "      <td>SE4</td>\n",
       "      <td>LONDON</td>\n",
       "      <td>Brockley district: Brockley, Crofton Park</td>\n",
       "      <td>Lewisham</td>\n",
       "    </tr>\n",
       "    <tr>\n",
       "      <th>23</th>\n",
       "      <td>SE23</td>\n",
       "      <td>LONDON</td>\n",
       "      <td>Forest Hill district: Forest Hill, Honor Oak, ...</td>\n",
       "      <td>Lewisham, Southwark</td>\n",
       "    </tr>\n",
       "    <tr>\n",
       "      <th>1</th>\n",
       "      <td>E1W</td>\n",
       "      <td>LONDON</td>\n",
       "      <td>Wapping, St Katharine Docks, Stepney (part), S...</td>\n",
       "      <td>Tower Hamlets</td>\n",
       "    </tr>\n",
       "    <tr>\n",
       "      <th>10</th>\n",
       "      <td>E10</td>\n",
       "      <td>LONDON</td>\n",
       "      <td>Leyton district: Leyton, Temple Mills, Hackney...</td>\n",
       "      <td>Waltham Forest, Hackney</td>\n",
       "    </tr>\n",
       "  </tbody>\n",
       "</table>\n",
       "</div>"
      ],
      "text/plain": [
       "   Postcode district Post town  \\\n",
       "11              WC2H    LONDON   \n",
       "24               W13    LONDON   \n",
       "10              SE10    LONDON   \n",
       "9               WC2B    LONDON   \n",
       "5                 E5    LONDON   \n",
       "24               N81    LONDON   \n",
       "4                SE4    LONDON   \n",
       "23              SE23    LONDON   \n",
       "1                E1W    LONDON   \n",
       "10               E10    LONDON   \n",
       "\n",
       "                                             Coverage     Local authority area  \n",
       "11                        Leicester Square, St. Giles      Camden, Westminster  \n",
       "24  West Ealing district: West Ealing, Northfields...                   Ealing  \n",
       "10  Greenwich district: Greenwich, Maze Hill, Gree...      Greenwich, Lewisham  \n",
       "9                       Drury Lane, Kingsway, Aldwych      Camden, Westminster  \n",
       "5   Clapton district: Leyton (Part), Upper Clapton...  Hackney, Waltham Forest  \n",
       "24                          Electoral Reform Services           non-geographic  \n",
       "4           Brockley district: Brockley, Crofton Park                 Lewisham  \n",
       "23  Forest Hill district: Forest Hill, Honor Oak, ...      Lewisham, Southwark  \n",
       "1   Wapping, St Katharine Docks, Stepney (part), S...            Tower Hamlets  \n",
       "10  Leyton district: Leyton, Temple Mills, Hackney...  Waltham Forest, Hackney  "
      ]
     },
     "execution_count": 360,
     "metadata": {},
     "output_type": "execute_result"
    }
   ],
   "source": [
    "data5.sample(10)"
   ]
  },
  {
   "cell_type": "code",
   "execution_count": 361,
   "metadata": {},
   "outputs": [],
   "source": [
    "nomi4 = pgeocode.Nominatim('gb')"
   ]
  },
  {
   "cell_type": "code",
   "execution_count": 362,
   "metadata": {},
   "outputs": [],
   "source": [
    "data5['Latitude'] = data5['Postcode district'].apply(lambda x: nomi4.query_postal_code(x))['latitude']\n",
    "data5['Longitude'] = data5['Postcode district'].apply(lambda x: nomi4.query_postal_code(x))['longitude']"
   ]
  },
  {
   "cell_type": "code",
   "execution_count": 363,
   "metadata": {},
   "outputs": [
    {
     "data": {
      "text/html": [
       "<div>\n",
       "<style scoped>\n",
       "    .dataframe tbody tr th:only-of-type {\n",
       "        vertical-align: middle;\n",
       "    }\n",
       "\n",
       "    .dataframe tbody tr th {\n",
       "        vertical-align: top;\n",
       "    }\n",
       "\n",
       "    .dataframe thead th {\n",
       "        text-align: right;\n",
       "    }\n",
       "</style>\n",
       "<table border=\"1\" class=\"dataframe\">\n",
       "  <thead>\n",
       "    <tr style=\"text-align: right;\">\n",
       "      <th></th>\n",
       "      <th>Postcode district</th>\n",
       "      <th>Post town</th>\n",
       "      <th>Coverage</th>\n",
       "      <th>Local authority area</th>\n",
       "      <th>Latitude</th>\n",
       "      <th>Longitude</th>\n",
       "    </tr>\n",
       "  </thead>\n",
       "  <tbody>\n",
       "    <tr>\n",
       "      <th>0</th>\n",
       "      <td>E1</td>\n",
       "      <td>LONDON</td>\n",
       "      <td>Eastern head district: Aldgate (part), Bishops...</td>\n",
       "      <td>Tower Hamlets, Hackney, City of London</td>\n",
       "      <td>51.5051</td>\n",
       "      <td>-0.061773</td>\n",
       "    </tr>\n",
       "    <tr>\n",
       "      <th>1</th>\n",
       "      <td>E1W</td>\n",
       "      <td>LONDON</td>\n",
       "      <td>Wapping, St Katharine Docks, Stepney (part), S...</td>\n",
       "      <td>Tower Hamlets</td>\n",
       "      <td>NaN</td>\n",
       "      <td>NaN</td>\n",
       "    </tr>\n",
       "    <tr>\n",
       "      <th>2</th>\n",
       "      <td>E2</td>\n",
       "      <td>LONDON</td>\n",
       "      <td>Bethnal Green district: Bethnal Green, Haggers...</td>\n",
       "      <td>Tower Hamlets, Hackney</td>\n",
       "      <td>51.5500</td>\n",
       "      <td>-0.055525</td>\n",
       "    </tr>\n",
       "    <tr>\n",
       "      <th>3</th>\n",
       "      <td>E3</td>\n",
       "      <td>LONDON</td>\n",
       "      <td>Bow district: Bow, Bow Common, Bromley-by-Bow,...</td>\n",
       "      <td>Tower Hamlets, Newham</td>\n",
       "      <td>51.5250</td>\n",
       "      <td>-0.026571</td>\n",
       "    </tr>\n",
       "    <tr>\n",
       "      <th>4</th>\n",
       "      <td>E4</td>\n",
       "      <td>LONDON</td>\n",
       "      <td>Chingford district: Chingford, Sewardstone, Hi...</td>\n",
       "      <td>Waltham Forest, Enfield, Epping Forest (Essex)</td>\n",
       "      <td>51.6303</td>\n",
       "      <td>0.000500</td>\n",
       "    </tr>\n",
       "  </tbody>\n",
       "</table>\n",
       "</div>"
      ],
      "text/plain": [
       "  Postcode district Post town  \\\n",
       "0                E1    LONDON   \n",
       "1               E1W    LONDON   \n",
       "2                E2    LONDON   \n",
       "3                E3    LONDON   \n",
       "4                E4    LONDON   \n",
       "\n",
       "                                            Coverage  \\\n",
       "0  Eastern head district: Aldgate (part), Bishops...   \n",
       "1  Wapping, St Katharine Docks, Stepney (part), S...   \n",
       "2  Bethnal Green district: Bethnal Green, Haggers...   \n",
       "3  Bow district: Bow, Bow Common, Bromley-by-Bow,...   \n",
       "4  Chingford district: Chingford, Sewardstone, Hi...   \n",
       "\n",
       "                             Local authority area  Latitude  Longitude  \n",
       "0          Tower Hamlets, Hackney, City of London   51.5051  -0.061773  \n",
       "1                                   Tower Hamlets       NaN        NaN  \n",
       "2                          Tower Hamlets, Hackney   51.5500  -0.055525  \n",
       "3                           Tower Hamlets, Newham   51.5250  -0.026571  \n",
       "4  Waltham Forest, Enfield, Epping Forest (Essex)   51.6303   0.000500  "
      ]
     },
     "execution_count": 363,
     "metadata": {},
     "output_type": "execute_result"
    }
   ],
   "source": [
    "data5.head()"
   ]
  },
  {
   "cell_type": "code",
   "execution_count": 364,
   "metadata": {},
   "outputs": [],
   "source": [
    "data5 = data5.dropna()"
   ]
  },
  {
   "cell_type": "code",
   "execution_count": 365,
   "metadata": {},
   "outputs": [
    {
     "data": {
      "text/html": [
       "<div>\n",
       "<style scoped>\n",
       "    .dataframe tbody tr th:only-of-type {\n",
       "        vertical-align: middle;\n",
       "    }\n",
       "\n",
       "    .dataframe tbody tr th {\n",
       "        vertical-align: top;\n",
       "    }\n",
       "\n",
       "    .dataframe thead th {\n",
       "        text-align: right;\n",
       "    }\n",
       "</style>\n",
       "<table border=\"1\" class=\"dataframe\">\n",
       "  <thead>\n",
       "    <tr style=\"text-align: right;\">\n",
       "      <th></th>\n",
       "      <th>Postcode district</th>\n",
       "      <th>Post town</th>\n",
       "      <th>Coverage</th>\n",
       "      <th>Local authority area</th>\n",
       "      <th>Latitude</th>\n",
       "      <th>Longitude</th>\n",
       "    </tr>\n",
       "  </thead>\n",
       "  <tbody>\n",
       "    <tr>\n",
       "      <th>0</th>\n",
       "      <td>E1</td>\n",
       "      <td>LONDON</td>\n",
       "      <td>Eastern head district: Aldgate (part), Bishops...</td>\n",
       "      <td>Tower Hamlets, Hackney, City of London</td>\n",
       "      <td>51.5051</td>\n",
       "      <td>-0.061773</td>\n",
       "    </tr>\n",
       "    <tr>\n",
       "      <th>2</th>\n",
       "      <td>E2</td>\n",
       "      <td>LONDON</td>\n",
       "      <td>Bethnal Green district: Bethnal Green, Haggers...</td>\n",
       "      <td>Tower Hamlets, Hackney</td>\n",
       "      <td>51.5500</td>\n",
       "      <td>-0.055525</td>\n",
       "    </tr>\n",
       "    <tr>\n",
       "      <th>3</th>\n",
       "      <td>E3</td>\n",
       "      <td>LONDON</td>\n",
       "      <td>Bow district: Bow, Bow Common, Bromley-by-Bow,...</td>\n",
       "      <td>Tower Hamlets, Newham</td>\n",
       "      <td>51.5250</td>\n",
       "      <td>-0.026571</td>\n",
       "    </tr>\n",
       "    <tr>\n",
       "      <th>4</th>\n",
       "      <td>E4</td>\n",
       "      <td>LONDON</td>\n",
       "      <td>Chingford district: Chingford, Sewardstone, Hi...</td>\n",
       "      <td>Waltham Forest, Enfield, Epping Forest (Essex)</td>\n",
       "      <td>51.6303</td>\n",
       "      <td>0.000500</td>\n",
       "    </tr>\n",
       "    <tr>\n",
       "      <th>5</th>\n",
       "      <td>E5</td>\n",
       "      <td>LONDON</td>\n",
       "      <td>Clapton district: Leyton (Part), Upper Clapton...</td>\n",
       "      <td>Hackney, Waltham Forest</td>\n",
       "      <td>51.5640</td>\n",
       "      <td>-0.054517</td>\n",
       "    </tr>\n",
       "  </tbody>\n",
       "</table>\n",
       "</div>"
      ],
      "text/plain": [
       "  Postcode district Post town  \\\n",
       "0                E1    LONDON   \n",
       "2                E2    LONDON   \n",
       "3                E3    LONDON   \n",
       "4                E4    LONDON   \n",
       "5                E5    LONDON   \n",
       "\n",
       "                                            Coverage  \\\n",
       "0  Eastern head district: Aldgate (part), Bishops...   \n",
       "2  Bethnal Green district: Bethnal Green, Haggers...   \n",
       "3  Bow district: Bow, Bow Common, Bromley-by-Bow,...   \n",
       "4  Chingford district: Chingford, Sewardstone, Hi...   \n",
       "5  Clapton district: Leyton (Part), Upper Clapton...   \n",
       "\n",
       "                             Local authority area  Latitude  Longitude  \n",
       "0          Tower Hamlets, Hackney, City of London   51.5051  -0.061773  \n",
       "2                          Tower Hamlets, Hackney   51.5500  -0.055525  \n",
       "3                           Tower Hamlets, Newham   51.5250  -0.026571  \n",
       "4  Waltham Forest, Enfield, Epping Forest (Essex)   51.6303   0.000500  \n",
       "5                         Hackney, Waltham Forest   51.5640  -0.054517  "
      ]
     },
     "execution_count": 365,
     "metadata": {},
     "output_type": "execute_result"
    }
   ],
   "source": [
    "data5.head()"
   ]
  },
  {
   "cell_type": "code",
   "execution_count": 366,
   "metadata": {},
   "outputs": [
    {
     "data": {
      "text/html": [
       "<div>\n",
       "<style scoped>\n",
       "    .dataframe tbody tr th:only-of-type {\n",
       "        vertical-align: middle;\n",
       "    }\n",
       "\n",
       "    .dataframe tbody tr th {\n",
       "        vertical-align: top;\n",
       "    }\n",
       "\n",
       "    .dataframe thead th {\n",
       "        text-align: right;\n",
       "    }\n",
       "</style>\n",
       "<table border=\"1\" class=\"dataframe\">\n",
       "  <thead>\n",
       "    <tr style=\"text-align: right;\">\n",
       "      <th></th>\n",
       "      <th>Postcode district</th>\n",
       "      <th>Post town</th>\n",
       "      <th>Local authority area</th>\n",
       "      <th>Latitude</th>\n",
       "      <th>Longitude</th>\n",
       "      <th>Borough</th>\n",
       "      <th>Neighborhood</th>\n",
       "    </tr>\n",
       "  </thead>\n",
       "  <tbody>\n",
       "    <tr>\n",
       "      <th>0</th>\n",
       "      <td>E1</td>\n",
       "      <td>LONDON</td>\n",
       "      <td>Tower Hamlets, Hackney, City of London</td>\n",
       "      <td>51.5051</td>\n",
       "      <td>-0.061773</td>\n",
       "      <td>London</td>\n",
       "      <td>London</td>\n",
       "    </tr>\n",
       "    <tr>\n",
       "      <th>2</th>\n",
       "      <td>E2</td>\n",
       "      <td>LONDON</td>\n",
       "      <td>Tower Hamlets, Hackney</td>\n",
       "      <td>51.5500</td>\n",
       "      <td>-0.055525</td>\n",
       "      <td>London</td>\n",
       "      <td>London</td>\n",
       "    </tr>\n",
       "    <tr>\n",
       "      <th>3</th>\n",
       "      <td>E3</td>\n",
       "      <td>LONDON</td>\n",
       "      <td>Tower Hamlets, Newham</td>\n",
       "      <td>51.5250</td>\n",
       "      <td>-0.026571</td>\n",
       "      <td>London</td>\n",
       "      <td>London</td>\n",
       "    </tr>\n",
       "    <tr>\n",
       "      <th>4</th>\n",
       "      <td>E4</td>\n",
       "      <td>LONDON</td>\n",
       "      <td>Waltham Forest, Enfield, Epping Forest (Essex)</td>\n",
       "      <td>51.6303</td>\n",
       "      <td>0.000500</td>\n",
       "      <td>London</td>\n",
       "      <td>London</td>\n",
       "    </tr>\n",
       "    <tr>\n",
       "      <th>5</th>\n",
       "      <td>E5</td>\n",
       "      <td>LONDON</td>\n",
       "      <td>Hackney, Waltham Forest</td>\n",
       "      <td>51.5640</td>\n",
       "      <td>-0.054517</td>\n",
       "      <td>London</td>\n",
       "      <td>London</td>\n",
       "    </tr>\n",
       "  </tbody>\n",
       "</table>\n",
       "</div>"
      ],
      "text/plain": [
       "  Postcode district Post town                            Local authority area  \\\n",
       "0                E1    LONDON          Tower Hamlets, Hackney, City of London   \n",
       "2                E2    LONDON                          Tower Hamlets, Hackney   \n",
       "3                E3    LONDON                           Tower Hamlets, Newham   \n",
       "4                E4    LONDON  Waltham Forest, Enfield, Epping Forest (Essex)   \n",
       "5                E5    LONDON                         Hackney, Waltham Forest   \n",
       "\n",
       "   Latitude  Longitude Borough Neighborhood  \n",
       "0   51.5051  -0.061773  London       London  \n",
       "2   51.5500  -0.055525  London       London  \n",
       "3   51.5250  -0.026571  London       London  \n",
       "4   51.6303   0.000500  London       London  \n",
       "5   51.5640  -0.054517  London       London  "
      ]
     },
     "execution_count": 366,
     "metadata": {},
     "output_type": "execute_result"
    }
   ],
   "source": [
    "data5 = data5.assign(Borough = 'London')\n",
    "data5 = data5.assign(Neighborhood = 'London')\n",
    "data5 = data5.drop(['Coverage'], axis=1)\n",
    "\n",
    "data5.head()"
   ]
  },
  {
   "cell_type": "code",
   "execution_count": 367,
   "metadata": {},
   "outputs": [
    {
     "data": {
      "text/html": [
       "<div>\n",
       "<style scoped>\n",
       "    .dataframe tbody tr th:only-of-type {\n",
       "        vertical-align: middle;\n",
       "    }\n",
       "\n",
       "    .dataframe tbody tr th {\n",
       "        vertical-align: top;\n",
       "    }\n",
       "\n",
       "    .dataframe thead th {\n",
       "        text-align: right;\n",
       "    }\n",
       "</style>\n",
       "<table border=\"1\" class=\"dataframe\">\n",
       "  <thead>\n",
       "    <tr style=\"text-align: right;\">\n",
       "      <th></th>\n",
       "      <th>Postcode district</th>\n",
       "      <th>Post town</th>\n",
       "      <th>Latitude</th>\n",
       "      <th>Longitude</th>\n",
       "      <th>Borough</th>\n",
       "      <th>Neighborhood</th>\n",
       "    </tr>\n",
       "  </thead>\n",
       "  <tbody>\n",
       "    <tr>\n",
       "      <th>0</th>\n",
       "      <td>E1</td>\n",
       "      <td>LONDON</td>\n",
       "      <td>51.5051</td>\n",
       "      <td>-0.061773</td>\n",
       "      <td>London</td>\n",
       "      <td>London</td>\n",
       "    </tr>\n",
       "    <tr>\n",
       "      <th>2</th>\n",
       "      <td>E2</td>\n",
       "      <td>LONDON</td>\n",
       "      <td>51.5500</td>\n",
       "      <td>-0.055525</td>\n",
       "      <td>London</td>\n",
       "      <td>London</td>\n",
       "    </tr>\n",
       "    <tr>\n",
       "      <th>3</th>\n",
       "      <td>E3</td>\n",
       "      <td>LONDON</td>\n",
       "      <td>51.5250</td>\n",
       "      <td>-0.026571</td>\n",
       "      <td>London</td>\n",
       "      <td>London</td>\n",
       "    </tr>\n",
       "    <tr>\n",
       "      <th>4</th>\n",
       "      <td>E4</td>\n",
       "      <td>LONDON</td>\n",
       "      <td>51.6303</td>\n",
       "      <td>0.000500</td>\n",
       "      <td>London</td>\n",
       "      <td>London</td>\n",
       "    </tr>\n",
       "    <tr>\n",
       "      <th>5</th>\n",
       "      <td>E5</td>\n",
       "      <td>LONDON</td>\n",
       "      <td>51.5640</td>\n",
       "      <td>-0.054517</td>\n",
       "      <td>London</td>\n",
       "      <td>London</td>\n",
       "    </tr>\n",
       "  </tbody>\n",
       "</table>\n",
       "</div>"
      ],
      "text/plain": [
       "  Postcode district Post town  Latitude  Longitude Borough Neighborhood\n",
       "0                E1    LONDON   51.5051  -0.061773  London       London\n",
       "2                E2    LONDON   51.5500  -0.055525  London       London\n",
       "3                E3    LONDON   51.5250  -0.026571  London       London\n",
       "4                E4    LONDON   51.6303   0.000500  London       London\n",
       "5                E5    LONDON   51.5640  -0.054517  London       London"
      ]
     },
     "execution_count": 367,
     "metadata": {},
     "output_type": "execute_result"
    }
   ],
   "source": [
    "data5 = data5.drop(['Local authority area'], axis=1)\n",
    "\n",
    "data5.head()"
   ]
  },
  {
   "cell_type": "code",
   "execution_count": 368,
   "metadata": {},
   "outputs": [
    {
     "data": {
      "text/html": [
       "<div>\n",
       "<style scoped>\n",
       "    .dataframe tbody tr th:only-of-type {\n",
       "        vertical-align: middle;\n",
       "    }\n",
       "\n",
       "    .dataframe tbody tr th {\n",
       "        vertical-align: top;\n",
       "    }\n",
       "\n",
       "    .dataframe thead th {\n",
       "        text-align: right;\n",
       "    }\n",
       "</style>\n",
       "<table border=\"1\" class=\"dataframe\">\n",
       "  <thead>\n",
       "    <tr style=\"text-align: right;\">\n",
       "      <th></th>\n",
       "      <th>Postcode district</th>\n",
       "      <th>Latitude</th>\n",
       "      <th>Longitude</th>\n",
       "      <th>Borough</th>\n",
       "      <th>Neighborhood</th>\n",
       "    </tr>\n",
       "  </thead>\n",
       "  <tbody>\n",
       "    <tr>\n",
       "      <th>0</th>\n",
       "      <td>E1</td>\n",
       "      <td>51.5051</td>\n",
       "      <td>-0.061773</td>\n",
       "      <td>London</td>\n",
       "      <td>London</td>\n",
       "    </tr>\n",
       "    <tr>\n",
       "      <th>2</th>\n",
       "      <td>E2</td>\n",
       "      <td>51.5500</td>\n",
       "      <td>-0.055525</td>\n",
       "      <td>London</td>\n",
       "      <td>London</td>\n",
       "    </tr>\n",
       "    <tr>\n",
       "      <th>3</th>\n",
       "      <td>E3</td>\n",
       "      <td>51.5250</td>\n",
       "      <td>-0.026571</td>\n",
       "      <td>London</td>\n",
       "      <td>London</td>\n",
       "    </tr>\n",
       "    <tr>\n",
       "      <th>4</th>\n",
       "      <td>E4</td>\n",
       "      <td>51.6303</td>\n",
       "      <td>0.000500</td>\n",
       "      <td>London</td>\n",
       "      <td>London</td>\n",
       "    </tr>\n",
       "    <tr>\n",
       "      <th>5</th>\n",
       "      <td>E5</td>\n",
       "      <td>51.5640</td>\n",
       "      <td>-0.054517</td>\n",
       "      <td>London</td>\n",
       "      <td>London</td>\n",
       "    </tr>\n",
       "  </tbody>\n",
       "</table>\n",
       "</div>"
      ],
      "text/plain": [
       "  Postcode district  Latitude  Longitude Borough Neighborhood\n",
       "0                E1   51.5051  -0.061773  London       London\n",
       "2                E2   51.5500  -0.055525  London       London\n",
       "3                E3   51.5250  -0.026571  London       London\n",
       "4                E4   51.6303   0.000500  London       London\n",
       "5                E5   51.5640  -0.054517  London       London"
      ]
     },
     "execution_count": 368,
     "metadata": {},
     "output_type": "execute_result"
    }
   ],
   "source": [
    "data5 = data5.drop(['Post town'], axis=1)\n",
    "\n",
    "data5.head()"
   ]
  },
  {
   "cell_type": "code",
   "execution_count": 370,
   "metadata": {},
   "outputs": [],
   "source": [
    "data_london = data5[data5['Borough'].str.contains('London')].reset_index(drop=True)"
   ]
  },
  {
   "cell_type": "code",
   "execution_count": 371,
   "metadata": {},
   "outputs": [
    {
     "data": {
      "text/html": [
       "<div style=\"width:100%;\"><div style=\"position:relative;width:100%;height:0;padding-bottom:60%;\"><iframe src=\"data:text/html;charset=utf-8;base64,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\" style=\"position:absolute;width:100%;height:100%;left:0;top:0;border:none !important;\" allowfullscreen webkitallowfullscreen mozallowfullscreen></iframe></div></div>"
      ],
      "text/plain": [
       "<folium.folium.Map at 0x7f6da9976978>"
      ]
     },
     "execution_count": 371,
     "metadata": {},
     "output_type": "execute_result"
    }
   ],
   "source": [
    "latitude, longitude = data_london.loc[0, 'Latitude'], data_london.loc[0, 'Longitude']\n",
    "map_london = folium.Map(location=[latitude, longitude], zoom_start=12)\n",
    "\n",
    "for lat, lng, borough, neighborhood in zip(data_london['Latitude'], data_london['Longitude'], \n",
    "                                            data_london['Borough'], data_london['Neighborhood']):\n",
    "    label = f\"{neighborhood}, {borough}\"\n",
    "    label = folium.Popup(label, parse_html=True)\n",
    "    folium.CircleMarker(\n",
    "        [lat, lng],\n",
    "        radius=5,\n",
    "        popup=label,\n",
    "        color='black',\n",
    "        fill=True,\n",
    "        fill_color='#1E90FF',\n",
    "        fill_opacity=0.7,\n",
    "        parse_html=False).add_to(map_london)  \n",
    "    \n",
    "map_london"
   ]
  },
  {
   "cell_type": "code",
   "execution_count": null,
   "metadata": {},
   "outputs": [],
   "source": []
  }
 ],
 "metadata": {
  "kernelspec": {
   "display_name": "Python 3.6",
   "language": "python",
   "name": "python3"
  },
  "language_info": {
   "codemirror_mode": {
    "name": "ipython",
    "version": 3
   },
   "file_extension": ".py",
   "mimetype": "text/x-python",
   "name": "python",
   "nbconvert_exporter": "python",
   "pygments_lexer": "ipython3",
   "version": "3.6.8"
  }
 },
 "nbformat": 4,
 "nbformat_minor": 1
}
