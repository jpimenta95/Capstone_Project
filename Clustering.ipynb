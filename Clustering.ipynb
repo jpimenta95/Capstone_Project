{
 "cells": [
  {
   "cell_type": "markdown",
   "metadata": {},
   "source": [
    "# Part 1"
   ]
  },
  {
   "cell_type": "code",
   "execution_count": 1,
   "metadata": {},
   "outputs": [],
   "source": [
    "import pandas as pd\n",
    "import numpy as np"
   ]
  },
  {
   "cell_type": "code",
   "execution_count": 2,
   "metadata": {},
   "outputs": [],
   "source": [
    "url = \"https://en.wikipedia.org/wiki/List_of_postal_codes_of_Canada:_M\"\n",
    "data = pd.read_html(url)[0]"
   ]
  },
  {
   "cell_type": "code",
   "execution_count": 3,
   "metadata": {},
   "outputs": [],
   "source": [
    "data.rename(columns={'Postcode': 'PostalCode'}, inplace=True)  \n",
    "ix = data['Borough'] == 'Not assigned'\n",
    "data.drop(data[ix].index, inplace=True)"
   ]
  },
  {
   "cell_type": "code",
   "execution_count": 4,
   "metadata": {},
   "outputs": [
    {
     "data": {
      "text/html": [
       "<div>\n",
       "<style scoped>\n",
       "    .dataframe tbody tr th:only-of-type {\n",
       "        vertical-align: middle;\n",
       "    }\n",
       "\n",
       "    .dataframe tbody tr th {\n",
       "        vertical-align: top;\n",
       "    }\n",
       "\n",
       "    .dataframe thead th {\n",
       "        text-align: right;\n",
       "    }\n",
       "</style>\n",
       "<table border=\"1\" class=\"dataframe\">\n",
       "  <thead>\n",
       "    <tr style=\"text-align: right;\">\n",
       "      <th></th>\n",
       "      <th>PostalCode</th>\n",
       "      <th>Borough</th>\n",
       "      <th>Neighbourhood</th>\n",
       "    </tr>\n",
       "  </thead>\n",
       "  <tbody>\n",
       "    <tr>\n",
       "      <th>2</th>\n",
       "      <td>M3A</td>\n",
       "      <td>North York</td>\n",
       "      <td>Parkwoods</td>\n",
       "    </tr>\n",
       "    <tr>\n",
       "      <th>3</th>\n",
       "      <td>M4A</td>\n",
       "      <td>North York</td>\n",
       "      <td>Victoria Village</td>\n",
       "    </tr>\n",
       "    <tr>\n",
       "      <th>4</th>\n",
       "      <td>M5A</td>\n",
       "      <td>Downtown Toronto</td>\n",
       "      <td>Harbourfront</td>\n",
       "    </tr>\n",
       "    <tr>\n",
       "      <th>5</th>\n",
       "      <td>M6A</td>\n",
       "      <td>North York</td>\n",
       "      <td>Lawrence Heights</td>\n",
       "    </tr>\n",
       "    <tr>\n",
       "      <th>6</th>\n",
       "      <td>M6A</td>\n",
       "      <td>North York</td>\n",
       "      <td>Lawrence Manor</td>\n",
       "    </tr>\n",
       "  </tbody>\n",
       "</table>\n",
       "</div>"
      ],
      "text/plain": [
       "  PostalCode           Borough     Neighbourhood\n",
       "2        M3A        North York         Parkwoods\n",
       "3        M4A        North York  Victoria Village\n",
       "4        M5A  Downtown Toronto      Harbourfront\n",
       "5        M6A        North York  Lawrence Heights\n",
       "6        M6A        North York    Lawrence Manor"
      ]
     },
     "execution_count": 4,
     "metadata": {},
     "output_type": "execute_result"
    }
   ],
   "source": [
    "data.head()"
   ]
  },
  {
   "cell_type": "code",
   "execution_count": 5,
   "metadata": {},
   "outputs": [
    {
     "data": {
      "text/plain": [
       "(103, 210, False)"
      ]
     },
     "execution_count": 5,
     "metadata": {},
     "output_type": "execute_result"
    }
   ],
   "source": [
    "data['PostalCode'].nunique(), len(data), data['PostalCode'].nunique() == len(data)"
   ]
  },
  {
   "cell_type": "code",
   "execution_count": 6,
   "metadata": {},
   "outputs": [],
   "source": [
    "post_neighbour_dic = {}\n",
    "for _, row in data.iterrows():\n",
    "    if row['PostalCode'] in post_neighbour_dic:\n",
    "        post_neighbour_dic[row['PostalCode']].append(row['Neighbourhood']) \n",
    "    else:\n",
    "        post_neighbour_dic[row['PostalCode']] = [row['Neighbourhood']] "
   ]
  },
  {
   "cell_type": "code",
   "execution_count": 7,
   "metadata": {},
   "outputs": [
    {
     "data": {
      "text/plain": [
       "['Cloverdale',\n",
       " 'Islington',\n",
       " 'Martin Grove',\n",
       " 'Princess Gardens',\n",
       " 'West Deane Park']"
      ]
     },
     "execution_count": 7,
     "metadata": {},
     "output_type": "execute_result"
    }
   ],
   "source": [
    "post_neighbour_dic['M9B']"
   ]
  },
  {
   "cell_type": "code",
   "execution_count": 8,
   "metadata": {},
   "outputs": [],
   "source": [
    "data['Neighbourhood'] = data['PostalCode'].apply(lambda x: ','.join(post_neighbour_dic[x]))\n",
    "\n",
    "data.drop_duplicates(inplace=True) "
   ]
  },
  {
   "cell_type": "code",
   "execution_count": 9,
   "metadata": {},
   "outputs": [
    {
     "data": {
      "text/html": [
       "<div>\n",
       "<style scoped>\n",
       "    .dataframe tbody tr th:only-of-type {\n",
       "        vertical-align: middle;\n",
       "    }\n",
       "\n",
       "    .dataframe tbody tr th {\n",
       "        vertical-align: top;\n",
       "    }\n",
       "\n",
       "    .dataframe thead th {\n",
       "        text-align: right;\n",
       "    }\n",
       "</style>\n",
       "<table border=\"1\" class=\"dataframe\">\n",
       "  <thead>\n",
       "    <tr style=\"text-align: right;\">\n",
       "      <th></th>\n",
       "      <th>PostalCode</th>\n",
       "      <th>Borough</th>\n",
       "      <th>Neighbourhood</th>\n",
       "    </tr>\n",
       "  </thead>\n",
       "  <tbody>\n",
       "    <tr>\n",
       "      <th>265</th>\n",
       "      <td>M8Y</td>\n",
       "      <td>Etobicoke</td>\n",
       "      <td>Humber Bay,King's Mill Park,Kingsway Park Sout...</td>\n",
       "    </tr>\n",
       "    <tr>\n",
       "      <th>144</th>\n",
       "      <td>M5N</td>\n",
       "      <td>Central Toronto</td>\n",
       "      <td>Roselawn</td>\n",
       "    </tr>\n",
       "    <tr>\n",
       "      <th>127</th>\n",
       "      <td>M3M</td>\n",
       "      <td>North York</td>\n",
       "      <td>Downsview Central</td>\n",
       "    </tr>\n",
       "    <tr>\n",
       "      <th>238</th>\n",
       "      <td>M4W</td>\n",
       "      <td>Downtown Toronto</td>\n",
       "      <td>Rosedale</td>\n",
       "    </tr>\n",
       "    <tr>\n",
       "      <th>13</th>\n",
       "      <td>M3B</td>\n",
       "      <td>North York</td>\n",
       "      <td>Don Mills North</td>\n",
       "    </tr>\n",
       "    <tr>\n",
       "      <th>242</th>\n",
       "      <td>M8W</td>\n",
       "      <td>Etobicoke</td>\n",
       "      <td>Alderwood,Long Branch</td>\n",
       "    </tr>\n",
       "    <tr>\n",
       "      <th>261</th>\n",
       "      <td>M4Y</td>\n",
       "      <td>Downtown Toronto</td>\n",
       "      <td>Church and Wellesley</td>\n",
       "    </tr>\n",
       "    <tr>\n",
       "      <th>33</th>\n",
       "      <td>M5C</td>\n",
       "      <td>Downtown Toronto</td>\n",
       "      <td>St. James Town</td>\n",
       "    </tr>\n",
       "    <tr>\n",
       "      <th>197</th>\n",
       "      <td>M5T</td>\n",
       "      <td>Downtown Toronto</td>\n",
       "      <td>Chinatown,Grange Park,Kensington Market</td>\n",
       "    </tr>\n",
       "    <tr>\n",
       "      <th>239</th>\n",
       "      <td>M5W</td>\n",
       "      <td>Downtown Toronto</td>\n",
       "      <td>Stn A PO Boxes 25 The Esplanade</td>\n",
       "    </tr>\n",
       "  </tbody>\n",
       "</table>\n",
       "</div>"
      ],
      "text/plain": [
       "    PostalCode           Borough  \\\n",
       "265        M8Y         Etobicoke   \n",
       "144        M5N   Central Toronto   \n",
       "127        M3M        North York   \n",
       "238        M4W  Downtown Toronto   \n",
       "13         M3B        North York   \n",
       "242        M8W         Etobicoke   \n",
       "261        M4Y  Downtown Toronto   \n",
       "33         M5C  Downtown Toronto   \n",
       "197        M5T  Downtown Toronto   \n",
       "239        M5W  Downtown Toronto   \n",
       "\n",
       "                                         Neighbourhood  \n",
       "265  Humber Bay,King's Mill Park,Kingsway Park Sout...  \n",
       "144                                           Roselawn  \n",
       "127                                  Downsview Central  \n",
       "238                                           Rosedale  \n",
       "13                                     Don Mills North  \n",
       "242                              Alderwood,Long Branch  \n",
       "261                               Church and Wellesley  \n",
       "33                                      St. James Town  \n",
       "197            Chinatown,Grange Park,Kensington Market  \n",
       "239                    Stn A PO Boxes 25 The Esplanade  "
      ]
     },
     "execution_count": 9,
     "metadata": {},
     "output_type": "execute_result"
    }
   ],
   "source": [
    "data.sample(10)"
   ]
  },
  {
   "cell_type": "code",
   "execution_count": 10,
   "metadata": {},
   "outputs": [
    {
     "data": {
      "text/plain": [
       "1"
      ]
     },
     "execution_count": 10,
     "metadata": {},
     "output_type": "execute_result"
    }
   ],
   "source": [
    "sum(data['Neighbourhood'] == 'Not assigned')"
   ]
  },
  {
   "cell_type": "code",
   "execution_count": 11,
   "metadata": {},
   "outputs": [],
   "source": [
    "for _, row in data.iterrows():\n",
    "    if row['Neighbourhood'] == 'Not assigned': row['Neighbourhood'] = row['Borough']"
   ]
  },
  {
   "cell_type": "code",
   "execution_count": 12,
   "metadata": {},
   "outputs": [
    {
     "data": {
      "text/plain": [
       "0"
      ]
     },
     "execution_count": 12,
     "metadata": {},
     "output_type": "execute_result"
    }
   ],
   "source": [
    "sum(data['Neighbourhood'] == 'Not assigned')"
   ]
  },
  {
   "cell_type": "code",
   "execution_count": 13,
   "metadata": {},
   "outputs": [
    {
     "data": {
      "text/html": [
       "<div>\n",
       "<style scoped>\n",
       "    .dataframe tbody tr th:only-of-type {\n",
       "        vertical-align: middle;\n",
       "    }\n",
       "\n",
       "    .dataframe tbody tr th {\n",
       "        vertical-align: top;\n",
       "    }\n",
       "\n",
       "    .dataframe thead th {\n",
       "        text-align: right;\n",
       "    }\n",
       "</style>\n",
       "<table border=\"1\" class=\"dataframe\">\n",
       "  <thead>\n",
       "    <tr style=\"text-align: right;\">\n",
       "      <th></th>\n",
       "      <th>PostalCode</th>\n",
       "      <th>Borough</th>\n",
       "      <th>Neighbourhood</th>\n",
       "    </tr>\n",
       "  </thead>\n",
       "  <tbody>\n",
       "    <tr>\n",
       "      <th>7</th>\n",
       "      <td>M7A</td>\n",
       "      <td>Queen's Park</td>\n",
       "      <td>Queen's Park</td>\n",
       "    </tr>\n",
       "    <tr>\n",
       "      <th>9</th>\n",
       "      <td>M9A</td>\n",
       "      <td>Queen's Park</td>\n",
       "      <td>Queen's Park</td>\n",
       "    </tr>\n",
       "  </tbody>\n",
       "</table>\n",
       "</div>"
      ],
      "text/plain": [
       "  PostalCode       Borough Neighbourhood\n",
       "7        M7A  Queen's Park  Queen's Park\n",
       "9        M9A  Queen's Park  Queen's Park"
      ]
     },
     "execution_count": 13,
     "metadata": {},
     "output_type": "execute_result"
    }
   ],
   "source": [
    "data[data['Borough'].str.contains(\"Queen\")]"
   ]
  },
  {
   "cell_type": "code",
   "execution_count": 14,
   "metadata": {},
   "outputs": [
    {
     "data": {
      "text/plain": [
       "(103, 3)"
      ]
     },
     "execution_count": 14,
     "metadata": {},
     "output_type": "execute_result"
    }
   ],
   "source": [
    "data.shape"
   ]
  },
  {
   "cell_type": "code",
   "execution_count": null,
   "metadata": {},
   "outputs": [],
   "source": []
  },
  {
   "cell_type": "markdown",
   "metadata": {},
   "source": [
    "# Part 2"
   ]
  },
  {
   "cell_type": "code",
   "execution_count": 15,
   "metadata": {},
   "outputs": [
    {
     "name": "stdout",
     "output_type": "stream",
     "text": [
      "Collecting pgeocode\n",
      "  Downloading https://files.pythonhosted.org/packages/45/12/c02be61e117d19a43b3d2b804311eedf49c0158f446d5b0d52f259c4b0fb/pgeocode-0.1.2-py2.py3-none-any.whl\n",
      "Requirement already satisfied: numpy in /opt/conda/envs/Python36/lib/python3.6/site-packages (from pgeocode) (1.15.4)\n",
      "Requirement already satisfied: pandas in /opt/conda/envs/Python36/lib/python3.6/site-packages (from pgeocode) (0.24.1)\n",
      "Requirement already satisfied: requests in /opt/conda/envs/Python36/lib/python3.6/site-packages (from pgeocode) (2.21.0)\n",
      "Requirement already satisfied: python-dateutil>=2.5.0 in /opt/conda/envs/Python36/lib/python3.6/site-packages (from pandas->pgeocode) (2.7.5)\n",
      "Requirement already satisfied: pytz>=2011k in /opt/conda/envs/Python36/lib/python3.6/site-packages (from pandas->pgeocode) (2018.9)\n",
      "Requirement already satisfied: urllib3<1.25,>=1.21.1 in /opt/conda/envs/Python36/lib/python3.6/site-packages (from requests->pgeocode) (1.24.1)\n",
      "Requirement already satisfied: idna<2.9,>=2.5 in /opt/conda/envs/Python36/lib/python3.6/site-packages (from requests->pgeocode) (2.8)\n",
      "Requirement already satisfied: chardet<3.1.0,>=3.0.2 in /opt/conda/envs/Python36/lib/python3.6/site-packages (from requests->pgeocode) (3.0.4)\n",
      "Requirement already satisfied: certifi>=2017.4.17 in /opt/conda/envs/Python36/lib/python3.6/site-packages (from requests->pgeocode) (2019.9.11)\n",
      "Requirement already satisfied: six>=1.5 in /opt/conda/envs/Python36/lib/python3.6/site-packages (from python-dateutil>=2.5.0->pandas->pgeocode) (1.12.0)\n",
      "Installing collected packages: pgeocode\n",
      "Successfully installed pgeocode-0.1.2\n"
     ]
    }
   ],
   "source": [
    "!pip install pgeocode\n",
    "import pgeocode\n",
    "\n",
    "nomi = pgeocode.Nominatim('ca') "
   ]
  },
  {
   "cell_type": "code",
   "execution_count": 16,
   "metadata": {},
   "outputs": [],
   "source": [
    "data['Latitude'] = data['PostalCode'].apply(lambda x: nomi.query_postal_code(x))['latitude']\n",
    "data['Longitude'] = data['PostalCode'].apply(lambda x: nomi.query_postal_code(x))['longitude']"
   ]
  },
  {
   "cell_type": "code",
   "execution_count": 17,
   "metadata": {},
   "outputs": [
    {
     "data": {
      "text/html": [
       "<div>\n",
       "<style scoped>\n",
       "    .dataframe tbody tr th:only-of-type {\n",
       "        vertical-align: middle;\n",
       "    }\n",
       "\n",
       "    .dataframe tbody tr th {\n",
       "        vertical-align: top;\n",
       "    }\n",
       "\n",
       "    .dataframe thead th {\n",
       "        text-align: right;\n",
       "    }\n",
       "</style>\n",
       "<table border=\"1\" class=\"dataframe\">\n",
       "  <thead>\n",
       "    <tr style=\"text-align: right;\">\n",
       "      <th></th>\n",
       "      <th>PostalCode</th>\n",
       "      <th>Borough</th>\n",
       "      <th>Neighbourhood</th>\n",
       "      <th>Latitude</th>\n",
       "      <th>Longitude</th>\n",
       "    </tr>\n",
       "  </thead>\n",
       "  <tbody>\n",
       "    <tr>\n",
       "      <th>2</th>\n",
       "      <td>M3A</td>\n",
       "      <td>North York</td>\n",
       "      <td>Parkwoods</td>\n",
       "      <td>43.7545</td>\n",
       "      <td>-79.3300</td>\n",
       "    </tr>\n",
       "    <tr>\n",
       "      <th>3</th>\n",
       "      <td>M4A</td>\n",
       "      <td>North York</td>\n",
       "      <td>Victoria Village</td>\n",
       "      <td>43.7276</td>\n",
       "      <td>-79.3148</td>\n",
       "    </tr>\n",
       "    <tr>\n",
       "      <th>4</th>\n",
       "      <td>M5A</td>\n",
       "      <td>Downtown Toronto</td>\n",
       "      <td>Harbourfront</td>\n",
       "      <td>43.6555</td>\n",
       "      <td>-79.3626</td>\n",
       "    </tr>\n",
       "    <tr>\n",
       "      <th>5</th>\n",
       "      <td>M6A</td>\n",
       "      <td>North York</td>\n",
       "      <td>Lawrence Heights,Lawrence Manor</td>\n",
       "      <td>43.7223</td>\n",
       "      <td>-79.4504</td>\n",
       "    </tr>\n",
       "    <tr>\n",
       "      <th>7</th>\n",
       "      <td>M7A</td>\n",
       "      <td>Queen's Park</td>\n",
       "      <td>Queen's Park</td>\n",
       "      <td>43.6641</td>\n",
       "      <td>-79.3889</td>\n",
       "    </tr>\n",
       "  </tbody>\n",
       "</table>\n",
       "</div>"
      ],
      "text/plain": [
       "  PostalCode           Borough                    Neighbourhood  Latitude  \\\n",
       "2        M3A        North York                        Parkwoods   43.7545   \n",
       "3        M4A        North York                 Victoria Village   43.7276   \n",
       "4        M5A  Downtown Toronto                     Harbourfront   43.6555   \n",
       "5        M6A        North York  Lawrence Heights,Lawrence Manor   43.7223   \n",
       "7        M7A      Queen's Park                     Queen's Park   43.6641   \n",
       "\n",
       "   Longitude  \n",
       "2   -79.3300  \n",
       "3   -79.3148  \n",
       "4   -79.3626  \n",
       "5   -79.4504  \n",
       "7   -79.3889  "
      ]
     },
     "execution_count": 17,
     "metadata": {},
     "output_type": "execute_result"
    }
   ],
   "source": [
    "data.head()"
   ]
  },
  {
   "cell_type": "code",
   "execution_count": null,
   "metadata": {},
   "outputs": [],
   "source": []
  },
  {
   "cell_type": "markdown",
   "metadata": {},
   "source": [
    "# Part 3"
   ]
  },
  {
   "cell_type": "code",
   "execution_count": 18,
   "metadata": {},
   "outputs": [
    {
     "data": {
      "text/html": [
       "<div>\n",
       "<style scoped>\n",
       "    .dataframe tbody tr th:only-of-type {\n",
       "        vertical-align: middle;\n",
       "    }\n",
       "\n",
       "    .dataframe tbody tr th {\n",
       "        vertical-align: top;\n",
       "    }\n",
       "\n",
       "    .dataframe thead th {\n",
       "        text-align: right;\n",
       "    }\n",
       "</style>\n",
       "<table border=\"1\" class=\"dataframe\">\n",
       "  <thead>\n",
       "    <tr style=\"text-align: right;\">\n",
       "      <th></th>\n",
       "      <th>PostalCode</th>\n",
       "      <th>Borough</th>\n",
       "      <th>Neighbourhood</th>\n",
       "      <th>Latitude</th>\n",
       "      <th>Longitude</th>\n",
       "    </tr>\n",
       "  </thead>\n",
       "  <tbody>\n",
       "    <tr>\n",
       "      <th>0</th>\n",
       "      <td>M5A</td>\n",
       "      <td>Downtown Toronto</td>\n",
       "      <td>Harbourfront</td>\n",
       "      <td>43.6555</td>\n",
       "      <td>-79.3626</td>\n",
       "    </tr>\n",
       "    <tr>\n",
       "      <th>1</th>\n",
       "      <td>M5B</td>\n",
       "      <td>Downtown Toronto</td>\n",
       "      <td>Ryerson,Garden District</td>\n",
       "      <td>43.6572</td>\n",
       "      <td>-79.3783</td>\n",
       "    </tr>\n",
       "    <tr>\n",
       "      <th>2</th>\n",
       "      <td>M5C</td>\n",
       "      <td>Downtown Toronto</td>\n",
       "      <td>St. James Town</td>\n",
       "      <td>43.6513</td>\n",
       "      <td>-79.3756</td>\n",
       "    </tr>\n",
       "    <tr>\n",
       "      <th>3</th>\n",
       "      <td>M4E</td>\n",
       "      <td>East Toronto</td>\n",
       "      <td>The Beaches</td>\n",
       "      <td>43.6784</td>\n",
       "      <td>-79.2941</td>\n",
       "    </tr>\n",
       "    <tr>\n",
       "      <th>4</th>\n",
       "      <td>M5E</td>\n",
       "      <td>Downtown Toronto</td>\n",
       "      <td>Berczy Park</td>\n",
       "      <td>43.6456</td>\n",
       "      <td>-79.3754</td>\n",
       "    </tr>\n",
       "  </tbody>\n",
       "</table>\n",
       "</div>"
      ],
      "text/plain": [
       "  PostalCode           Borough            Neighbourhood  Latitude  Longitude\n",
       "0        M5A  Downtown Toronto             Harbourfront   43.6555   -79.3626\n",
       "1        M5B  Downtown Toronto  Ryerson,Garden District   43.6572   -79.3783\n",
       "2        M5C  Downtown Toronto           St. James Town   43.6513   -79.3756\n",
       "3        M4E      East Toronto              The Beaches   43.6784   -79.2941\n",
       "4        M5E  Downtown Toronto              Berczy Park   43.6456   -79.3754"
      ]
     },
     "execution_count": 18,
     "metadata": {},
     "output_type": "execute_result"
    }
   ],
   "source": [
    "data_toronto = data[data['Borough'].str.contains('Toronto')].reset_index(drop=True)\n",
    "data_toronto.head()"
   ]
  },
  {
   "cell_type": "code",
   "execution_count": 19,
   "metadata": {},
   "outputs": [
    {
     "data": {
      "text/plain": [
       "array(['Downtown Toronto', 'East Toronto', 'West Toronto',\n",
       "       'Central Toronto'], dtype=object)"
      ]
     },
     "execution_count": 19,
     "metadata": {},
     "output_type": "execute_result"
    }
   ],
   "source": [
    "data_toronto['Borough'].unique()"
   ]
  },
  {
   "cell_type": "code",
   "execution_count": 20,
   "metadata": {},
   "outputs": [
    {
     "data": {
      "text/plain": [
       "38"
      ]
     },
     "execution_count": 20,
     "metadata": {},
     "output_type": "execute_result"
    }
   ],
   "source": [
    "data_toronto['Neighbourhood'].nunique()"
   ]
  },
  {
   "cell_type": "code",
   "execution_count": 21,
   "metadata": {},
   "outputs": [
    {
     "name": "stdout",
     "output_type": "stream",
     "text": [
      "Collecting folium\n",
      "\u001b[?25l  Downloading https://files.pythonhosted.org/packages/fd/a0/ccb3094026649cda4acd55bf2c3822bb8c277eb11446d13d384e5be35257/folium-0.10.1-py2.py3-none-any.whl (91kB)\n",
      "\u001b[K     |████████████████████████████████| 92kB 12.6MB/s eta 0:00:01\n",
      "\u001b[?25hRequirement already satisfied: numpy in /opt/conda/envs/Python36/lib/python3.6/site-packages (from folium) (1.15.4)\n",
      "Requirement already satisfied: jinja2>=2.9 in /opt/conda/envs/Python36/lib/python3.6/site-packages (from folium) (2.10)\n",
      "Collecting branca>=0.3.0 (from folium)\n",
      "  Downloading https://files.pythonhosted.org/packages/63/36/1c93318e9653f4e414a2e0c3b98fc898b4970e939afeedeee6075dd3b703/branca-0.3.1-py3-none-any.whl\n",
      "Requirement already satisfied: requests in /opt/conda/envs/Python36/lib/python3.6/site-packages (from folium) (2.21.0)\n",
      "Requirement already satisfied: MarkupSafe>=0.23 in /opt/conda/envs/Python36/lib/python3.6/site-packages (from jinja2>=2.9->folium) (1.1.0)\n",
      "Requirement already satisfied: six in /opt/conda/envs/Python36/lib/python3.6/site-packages (from branca>=0.3.0->folium) (1.12.0)\n",
      "Requirement already satisfied: urllib3<1.25,>=1.21.1 in /opt/conda/envs/Python36/lib/python3.6/site-packages (from requests->folium) (1.24.1)\n",
      "Requirement already satisfied: certifi>=2017.4.17 in /opt/conda/envs/Python36/lib/python3.6/site-packages (from requests->folium) (2019.9.11)\n",
      "Requirement already satisfied: chardet<3.1.0,>=3.0.2 in /opt/conda/envs/Python36/lib/python3.6/site-packages (from requests->folium) (3.0.4)\n",
      "Requirement already satisfied: idna<2.9,>=2.5 in /opt/conda/envs/Python36/lib/python3.6/site-packages (from requests->folium) (2.8)\n",
      "Installing collected packages: branca, folium\n",
      "Successfully installed branca-0.3.1 folium-0.10.1\n"
     ]
    }
   ],
   "source": [
    "import json \n",
    "import requests \n",
    "\n",
    "from sklearn.cluster import KMeans \n",
    "\n",
    "!pip install folium\n",
    "import folium"
   ]
  },
  {
   "cell_type": "code",
   "execution_count": 22,
   "metadata": {},
   "outputs": [
    {
     "data": {
      "text/html": [
       "<div style=\"width:100%;\"><div style=\"position:relative;width:100%;height:0;padding-bottom:60%;\"><iframe src=\"data:text/html;charset=utf-8;base64,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\" style=\"position:absolute;width:100%;height:100%;left:0;top:0;border:none !important;\" allowfullscreen webkitallowfullscreen mozallowfullscreen></iframe></div></div>"
      ],
      "text/plain": [
       "<folium.folium.Map at 0x7f1d55c21128>"
      ]
     },
     "execution_count": 22,
     "metadata": {},
     "output_type": "execute_result"
    }
   ],
   "source": [
    "latitude, longitude = data_toronto.loc[0, 'Latitude'], data_toronto.loc[0, 'Longitude']\n",
    "map_toronto = folium.Map(location=[latitude, longitude], zoom_start=12)\n",
    "\n",
    "for lat, lng, borough, neighborhood in zip(data_toronto['Latitude'], data_toronto['Longitude'], \n",
    "                                            data_toronto['Borough'], data_toronto['Neighbourhood']):\n",
    "    label = f\"{neighborhood}, {borough}\"\n",
    "    label = folium.Popup(label, parse_html=True)\n",
    "    folium.CircleMarker(\n",
    "        [lat, lng],\n",
    "        radius=5,\n",
    "        popup=label,\n",
    "        color='black',\n",
    "        fill=True,\n",
    "        fill_color='#1E90FF',\n",
    "        fill_opacity=0.7,\n",
    "        parse_html=False).add_to(map_toronto)  \n",
    "    \n",
    "map_toronto"
   ]
  },
  {
   "cell_type": "code",
   "execution_count": 28,
   "metadata": {},
   "outputs": [],
   "source": [
    "CLIENT_ID = '...'\n",
    "CLIENT_SECRET = '...'\n",
    "VERSION = '20191205'"
   ]
  },
  {
   "cell_type": "code",
   "execution_count": 29,
   "metadata": {},
   "outputs": [],
   "source": [
    "LIMIT = 100\n",
    "def getNearbyVenues(names, latitudes, longitudes, radius=500):\n",
    "    \n",
    "    venues_list=[]\n",
    "    for name, lat, lng in zip(names, latitudes, longitudes):\n",
    "        print(name)\n",
    "            \n",
    "        url = 'https://api.foursquare.com/v2/venues/explore?&client_id={}&client_secret={}&v={}&ll={},{}&radius={}&limit={}'.format(\n",
    "            CLIENT_ID, \n",
    "            CLIENT_SECRET, \n",
    "            VERSION, \n",
    "            lat, \n",
    "            lng, \n",
    "            radius, \n",
    "            LIMIT)\n",
    "            \n",
    "        results = requests.get(url, verify=False).json()[\"response\"]\n",
    "        \n",
    "        venues_list.append([(\n",
    "            name, \n",
    "            lat, \n",
    "            lng, \n",
    "            v['venue']['name'], \n",
    "            v['venue']['location']['lat'], \n",
    "            v['venue']['location']['lng'],  \n",
    "            v['venue']['categories'][0]['name']) for v in results])\n",
    "\n",
    "    nearby_venues = pd.DataFrame([item for venue_list in venues_list for item in venue_list])\n",
    "    nearby_venues.columns = ['Neighbourhood', \n",
    "                  'Neighbourhood Latitude', \n",
    "                  'Neighbourhood Longitude', \n",
    "                  'Venue', \n",
    "                  'Venue Latitude', \n",
    "                  'Venue Longitude', \n",
    "                  'Venue Category']\n",
    "    \n",
    "    return(nearby_venues)"
   ]
  },
  {
   "cell_type": "code",
   "execution_count": 30,
   "metadata": {},
   "outputs": [
    {
     "name": "stdout",
     "output_type": "stream",
     "text": [
      "Harbourfront\n",
      "Ryerson,Garden District\n",
      "St. James Town\n",
      "The Beaches\n",
      "Berczy Park\n",
      "Central Bay Street\n",
      "Christie\n",
      "Adelaide,King,Richmond\n",
      "Dovercourt Village,Dufferin\n",
      "Harbourfront East,Toronto Islands,Union Station\n",
      "Little Portugal,Trinity\n",
      "The Danforth West,Riverdale\n",
      "Design Exchange,Toronto Dominion Centre\n",
      "Brockton,Exhibition Place,Parkdale Village\n",
      "The Beaches West,India Bazaar\n",
      "Commerce Court,Victoria Hotel\n",
      "Studio District\n",
      "Lawrence Park\n",
      "Roselawn\n",
      "Davisville North\n",
      "Forest Hill North,Forest Hill West\n",
      "High Park,The Junction South\n",
      "North Toronto West\n",
      "The Annex,North Midtown,Yorkville\n",
      "Parkdale,Roncesvalles\n",
      "Davisville\n",
      "Harbord,University of Toronto\n",
      "Runnymede,Swansea\n",
      "Moore Park,Summerhill East\n",
      "Chinatown,Grange Park,Kensington Market\n",
      "Deer Park,Forest Hill SE,Rathnelly,South Hill,Summerhill West\n",
      "CN Tower,Bathurst Quay,Island airport,Harbourfront West,King and Spadina,Railway Lands,South Niagara\n",
      "Rosedale\n",
      "Stn A PO Boxes 25 The Esplanade\n",
      "Cabbagetown,St. James Town\n",
      "First Canadian Place,Underground city\n",
      "Church and Wellesley\n",
      "Business Reply Mail Processing Centre 969 Eastern\n"
     ]
    },
    {
     "ename": "ValueError",
     "evalue": "Length mismatch: Expected axis has 0 elements, new values have 7 elements",
     "output_type": "error",
     "traceback": [
      "\u001b[0;31m---------------------------------------------------------------------------\u001b[0m",
      "\u001b[0;31mValueError\u001b[0m                                Traceback (most recent call last)",
      "\u001b[0;32m<ipython-input-30-b4f772c21b11>\u001b[0m in \u001b[0;36m<module>\u001b[0;34m\u001b[0m\n\u001b[1;32m      4\u001b[0m toronto_venues = getNearbyVenues(names=data_toronto['Neighbourhood'],\n\u001b[1;32m      5\u001b[0m                                    \u001b[0mlatitudes\u001b[0m\u001b[0;34m=\u001b[0m\u001b[0mdata_toronto\u001b[0m\u001b[0;34m[\u001b[0m\u001b[0;34m'Latitude'\u001b[0m\u001b[0;34m]\u001b[0m\u001b[0;34m,\u001b[0m\u001b[0;34m\u001b[0m\u001b[0;34m\u001b[0m\u001b[0m\n\u001b[0;32m----> 6\u001b[0;31m                                    longitudes=data_toronto['Longitude'])\n\u001b[0m",
      "\u001b[0;32m<ipython-input-29-0a4d72cb2c3d>\u001b[0m in \u001b[0;36mgetNearbyVenues\u001b[0;34m(names, latitudes, longitudes, radius)\u001b[0m\n\u001b[1;32m     33\u001b[0m                   \u001b[0;34m'Venue Latitude'\u001b[0m\u001b[0;34m,\u001b[0m\u001b[0;34m\u001b[0m\u001b[0;34m\u001b[0m\u001b[0m\n\u001b[1;32m     34\u001b[0m                   \u001b[0;34m'Venue Longitude'\u001b[0m\u001b[0;34m,\u001b[0m\u001b[0;34m\u001b[0m\u001b[0;34m\u001b[0m\u001b[0m\n\u001b[0;32m---> 35\u001b[0;31m                   'Venue Category']\n\u001b[0m\u001b[1;32m     36\u001b[0m \u001b[0;34m\u001b[0m\u001b[0m\n\u001b[1;32m     37\u001b[0m     \u001b[0;32mreturn\u001b[0m\u001b[0;34m(\u001b[0m\u001b[0mnearby_venues\u001b[0m\u001b[0;34m)\u001b[0m\u001b[0;34m\u001b[0m\u001b[0;34m\u001b[0m\u001b[0m\n",
      "\u001b[0;32m/opt/conda/envs/Python36/lib/python3.6/site-packages/pandas/core/generic.py\u001b[0m in \u001b[0;36m__setattr__\u001b[0;34m(self, name, value)\u001b[0m\n\u001b[1;32m   5078\u001b[0m         \u001b[0;32mtry\u001b[0m\u001b[0;34m:\u001b[0m\u001b[0;34m\u001b[0m\u001b[0;34m\u001b[0m\u001b[0m\n\u001b[1;32m   5079\u001b[0m             \u001b[0mobject\u001b[0m\u001b[0;34m.\u001b[0m\u001b[0m__getattribute__\u001b[0m\u001b[0;34m(\u001b[0m\u001b[0mself\u001b[0m\u001b[0;34m,\u001b[0m \u001b[0mname\u001b[0m\u001b[0;34m)\u001b[0m\u001b[0;34m\u001b[0m\u001b[0;34m\u001b[0m\u001b[0m\n\u001b[0;32m-> 5080\u001b[0;31m             \u001b[0;32mreturn\u001b[0m \u001b[0mobject\u001b[0m\u001b[0;34m.\u001b[0m\u001b[0m__setattr__\u001b[0m\u001b[0;34m(\u001b[0m\u001b[0mself\u001b[0m\u001b[0;34m,\u001b[0m \u001b[0mname\u001b[0m\u001b[0;34m,\u001b[0m \u001b[0mvalue\u001b[0m\u001b[0;34m)\u001b[0m\u001b[0;34m\u001b[0m\u001b[0;34m\u001b[0m\u001b[0m\n\u001b[0m\u001b[1;32m   5081\u001b[0m         \u001b[0;32mexcept\u001b[0m \u001b[0mAttributeError\u001b[0m\u001b[0;34m:\u001b[0m\u001b[0;34m\u001b[0m\u001b[0;34m\u001b[0m\u001b[0m\n\u001b[1;32m   5082\u001b[0m             \u001b[0;32mpass\u001b[0m\u001b[0;34m\u001b[0m\u001b[0;34m\u001b[0m\u001b[0m\n",
      "\u001b[0;32mpandas/_libs/properties.pyx\u001b[0m in \u001b[0;36mpandas._libs.properties.AxisProperty.__set__\u001b[0;34m()\u001b[0m\n",
      "\u001b[0;32m/opt/conda/envs/Python36/lib/python3.6/site-packages/pandas/core/generic.py\u001b[0m in \u001b[0;36m_set_axis\u001b[0;34m(self, axis, labels)\u001b[0m\n\u001b[1;32m    636\u001b[0m \u001b[0;34m\u001b[0m\u001b[0m\n\u001b[1;32m    637\u001b[0m     \u001b[0;32mdef\u001b[0m \u001b[0m_set_axis\u001b[0m\u001b[0;34m(\u001b[0m\u001b[0mself\u001b[0m\u001b[0;34m,\u001b[0m \u001b[0maxis\u001b[0m\u001b[0;34m,\u001b[0m \u001b[0mlabels\u001b[0m\u001b[0;34m)\u001b[0m\u001b[0;34m:\u001b[0m\u001b[0;34m\u001b[0m\u001b[0;34m\u001b[0m\u001b[0m\n\u001b[0;32m--> 638\u001b[0;31m         \u001b[0mself\u001b[0m\u001b[0;34m.\u001b[0m\u001b[0m_data\u001b[0m\u001b[0;34m.\u001b[0m\u001b[0mset_axis\u001b[0m\u001b[0;34m(\u001b[0m\u001b[0maxis\u001b[0m\u001b[0;34m,\u001b[0m \u001b[0mlabels\u001b[0m\u001b[0;34m)\u001b[0m\u001b[0;34m\u001b[0m\u001b[0;34m\u001b[0m\u001b[0m\n\u001b[0m\u001b[1;32m    639\u001b[0m         \u001b[0mself\u001b[0m\u001b[0;34m.\u001b[0m\u001b[0m_clear_item_cache\u001b[0m\u001b[0;34m(\u001b[0m\u001b[0;34m)\u001b[0m\u001b[0;34m\u001b[0m\u001b[0;34m\u001b[0m\u001b[0m\n\u001b[1;32m    640\u001b[0m \u001b[0;34m\u001b[0m\u001b[0m\n",
      "\u001b[0;32m/opt/conda/envs/Python36/lib/python3.6/site-packages/pandas/core/internals/managers.py\u001b[0m in \u001b[0;36mset_axis\u001b[0;34m(self, axis, new_labels)\u001b[0m\n\u001b[1;32m    153\u001b[0m             raise ValueError(\n\u001b[1;32m    154\u001b[0m                 \u001b[0;34m'Length mismatch: Expected axis has {old} elements, new '\u001b[0m\u001b[0;34m\u001b[0m\u001b[0;34m\u001b[0m\u001b[0m\n\u001b[0;32m--> 155\u001b[0;31m                 'values have {new} elements'.format(old=old_len, new=new_len))\n\u001b[0m\u001b[1;32m    156\u001b[0m \u001b[0;34m\u001b[0m\u001b[0m\n\u001b[1;32m    157\u001b[0m         \u001b[0mself\u001b[0m\u001b[0;34m.\u001b[0m\u001b[0maxes\u001b[0m\u001b[0;34m[\u001b[0m\u001b[0maxis\u001b[0m\u001b[0;34m]\u001b[0m \u001b[0;34m=\u001b[0m \u001b[0mnew_labels\u001b[0m\u001b[0;34m\u001b[0m\u001b[0;34m\u001b[0m\u001b[0m\n",
      "\u001b[0;31mValueError\u001b[0m: Length mismatch: Expected axis has 0 elements, new values have 7 elements"
     ]
    }
   ],
   "source": [
    "requests.packages.urllib3.disable_warnings() \n",
    "\n",
    "\n",
    "toronto_venues = getNearbyVenues(names=data_toronto['Neighbourhood'],\n",
    "                                   latitudes=data_toronto['Latitude'],\n",
    "                                   longitudes=data_toronto['Longitude'])"
   ]
  },
  {
   "cell_type": "code",
   "execution_count": null,
   "metadata": {},
   "outputs": [],
   "source": []
  }
 ],
 "metadata": {
  "kernelspec": {
   "display_name": "Python 3.6",
   "language": "python",
   "name": "python3"
  },
  "language_info": {
   "codemirror_mode": {
    "name": "ipython",
    "version": 3
   },
   "file_extension": ".py",
   "mimetype": "text/x-python",
   "name": "python",
   "nbconvert_exporter": "python",
   "pygments_lexer": "ipython3",
   "version": "3.6.8"
  }
 },
 "nbformat": 4,
 "nbformat_minor": 1
}
